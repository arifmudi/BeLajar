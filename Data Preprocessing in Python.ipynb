{
 "cells": [
  {
   "cell_type": "code",
   "execution_count": 1,
   "metadata": {},
   "outputs": [],
   "source": [
    "# Mengimpor perpustakaan\n",
    "import numpy as np # digunakan untuk menangani angka \n",
    "import pandas as pd # digunakan untuk menangani dataset\n",
    "from sklearn.impute import SimpleImputer # digunakan untuk menangani data yang hilang\n",
    "from sklearn.preprocessing import LabelEncoder, OneHotEncoder # digunakan untuk encoding data kategorikal\n",
    "from sklearn.compose import ColumnTransformer\n",
    "from sklearn.model_selection import train_test_split # digunakan untuk memisahkan data pelatihan dan pengujian\n",
    "from sklearn.preprocessing import StandardScaler # digunakan untuk penskalaan fitur"
   ]
  },
  {
   "cell_type": "code",
   "execution_count": 2,
   "metadata": {},
   "outputs": [],
   "source": [
    "dataset = pd.read_csv ('DataPreprocessing.csv') # untuk mengimpor dataset ke dalam variabel\n",
    "# Memisahkan atribut menjadi atribut independen dan dependen \n",
    "X = dataset.iloc [:,: -1] .values # atribut untuk menentukan variabel dependen / Kelas \n",
    "Y = dataset.iloc [:, -1] .values # variabel dependen / Kelas"
   ]
  },
  {
   "cell_type": "code",
   "execution_count": 3,
   "metadata": {},
   "outputs": [
    {
     "data": {
      "text/html": [
       "<div>\n",
       "<style scoped>\n",
       "    .dataframe tbody tr th:only-of-type {\n",
       "        vertical-align: middle;\n",
       "    }\n",
       "\n",
       "    .dataframe tbody tr th {\n",
       "        vertical-align: top;\n",
       "    }\n",
       "\n",
       "    .dataframe thead th {\n",
       "        text-align: right;\n",
       "    }\n",
       "</style>\n",
       "<table border=\"1\" class=\"dataframe\">\n",
       "  <thead>\n",
       "    <tr style=\"text-align: right;\">\n",
       "      <th></th>\n",
       "      <th>Region</th>\n",
       "      <th>Age</th>\n",
       "      <th>Income</th>\n",
       "      <th>Online Shopper</th>\n",
       "    </tr>\n",
       "  </thead>\n",
       "  <tbody>\n",
       "    <tr>\n",
       "      <th>0</th>\n",
       "      <td>India</td>\n",
       "      <td>49.0</td>\n",
       "      <td>86400.0</td>\n",
       "      <td>No</td>\n",
       "    </tr>\n",
       "    <tr>\n",
       "      <th>1</th>\n",
       "      <td>Brazil</td>\n",
       "      <td>32.0</td>\n",
       "      <td>57600.0</td>\n",
       "      <td>Yes</td>\n",
       "    </tr>\n",
       "    <tr>\n",
       "      <th>2</th>\n",
       "      <td>USA</td>\n",
       "      <td>35.0</td>\n",
       "      <td>64800.0</td>\n",
       "      <td>No</td>\n",
       "    </tr>\n",
       "    <tr>\n",
       "      <th>3</th>\n",
       "      <td>Brazil</td>\n",
       "      <td>43.0</td>\n",
       "      <td>73200.0</td>\n",
       "      <td>No</td>\n",
       "    </tr>\n",
       "    <tr>\n",
       "      <th>4</th>\n",
       "      <td>USA</td>\n",
       "      <td>45.0</td>\n",
       "      <td>NaN</td>\n",
       "      <td>Yes</td>\n",
       "    </tr>\n",
       "    <tr>\n",
       "      <th>5</th>\n",
       "      <td>India</td>\n",
       "      <td>40.0</td>\n",
       "      <td>69600.0</td>\n",
       "      <td>Yes</td>\n",
       "    </tr>\n",
       "    <tr>\n",
       "      <th>6</th>\n",
       "      <td>Brazil</td>\n",
       "      <td>NaN</td>\n",
       "      <td>62400.0</td>\n",
       "      <td>No</td>\n",
       "    </tr>\n",
       "    <tr>\n",
       "      <th>7</th>\n",
       "      <td>India</td>\n",
       "      <td>53.0</td>\n",
       "      <td>94800.0</td>\n",
       "      <td>Yes</td>\n",
       "    </tr>\n",
       "    <tr>\n",
       "      <th>8</th>\n",
       "      <td>USA</td>\n",
       "      <td>55.0</td>\n",
       "      <td>99600.0</td>\n",
       "      <td>No</td>\n",
       "    </tr>\n",
       "    <tr>\n",
       "      <th>9</th>\n",
       "      <td>India</td>\n",
       "      <td>42.0</td>\n",
       "      <td>80400.0</td>\n",
       "      <td>Yes</td>\n",
       "    </tr>\n",
       "  </tbody>\n",
       "</table>\n",
       "</div>"
      ],
      "text/plain": [
       "   Region   Age   Income Online Shopper\n",
       "0   India  49.0  86400.0             No\n",
       "1  Brazil  32.0  57600.0            Yes\n",
       "2     USA  35.0  64800.0             No\n",
       "3  Brazil  43.0  73200.0             No\n",
       "4     USA  45.0      NaN            Yes\n",
       "5   India  40.0  69600.0            Yes\n",
       "6  Brazil   NaN  62400.0             No\n",
       "7   India  53.0  94800.0            Yes\n",
       "8     USA  55.0  99600.0             No\n",
       "9   India  42.0  80400.0            Yes"
      ]
     },
     "execution_count": 3,
     "metadata": {},
     "output_type": "execute_result"
    }
   ],
   "source": [
    "dataset"
   ]
  },
  {
   "cell_type": "code",
   "execution_count": 4,
   "metadata": {},
   "outputs": [],
   "source": [
    "# Penanganan Data yang Hilang\n",
    "# menangani data yang hilang dan mengganti nilai yang hilang dengan nan dari numpy dan mengganti dengan mean dari semua nilai lainnya \n",
    "imputer = SimpleImputer (missing_values = np.nan, strategy = 'mean') \n",
    "imputer = imputer.fit (X [:, 1: ]) \n",
    "X [:, 1:] = imputer.transform (X [:, 1:])"
   ]
  },
  {
   "cell_type": "code",
   "execution_count": 5,
   "metadata": {},
   "outputs": [
    {
     "data": {
      "text/plain": [
       "array([['India', 49.0, 86400.0],\n",
       "       ['Brazil', 32.0, 57600.0],\n",
       "       ['USA', 35.0, 64800.0],\n",
       "       ['Brazil', 43.0, 73200.0],\n",
       "       ['USA', 45.0, 76533.33333333333],\n",
       "       ['India', 40.0, 69600.0],\n",
       "       ['Brazil', 43.77777777777778, 62400.0],\n",
       "       ['India', 53.0, 94800.0],\n",
       "       ['USA', 55.0, 99600.0],\n",
       "       ['India', 42.0, 80400.0]], dtype=object)"
      ]
     },
     "execution_count": 5,
     "metadata": {},
     "output_type": "execute_result"
    }
   ],
   "source": [
    "X"
   ]
  },
  {
   "cell_type": "code",
   "execution_count": 7,
   "metadata": {},
   "outputs": [],
   "source": [
    "# encode categorical data\n",
    "labelencoder_X = LabelEncoder()\n",
    "X[:, 0] = labelencoder_X.fit_transform(X[:, 0])"
   ]
  },
  {
   "cell_type": "code",
   "execution_count": 8,
   "metadata": {},
   "outputs": [],
   "source": [
    "onehotencoder = OneHotEncoder()\n",
    "X_category = onehotencoder.fit_transform(X[:, 0:1]).toarray()\n",
    "labelencoder_Y = LabelEncoder()\n",
    "Y = labelencoder_Y.fit_transform(Y)"
   ]
  },
  {
   "cell_type": "code",
   "execution_count": 9,
   "metadata": {},
   "outputs": [],
   "source": [
    "X = np.concatenate((X_category, X[:,1:]), axis=1)"
   ]
  },
  {
   "cell_type": "code",
   "execution_count": 10,
   "metadata": {},
   "outputs": [
    {
     "data": {
      "text/plain": [
       "array([[0.0, 1.0, 0.0, 49.0, 86400.0],\n",
       "       [1.0, 0.0, 0.0, 32.0, 57600.0],\n",
       "       [0.0, 0.0, 1.0, 35.0, 64800.0],\n",
       "       [1.0, 0.0, 0.0, 43.0, 73200.0],\n",
       "       [0.0, 0.0, 1.0, 45.0, 76533.33333333333],\n",
       "       [0.0, 1.0, 0.0, 40.0, 69600.0],\n",
       "       [1.0, 0.0, 0.0, 43.77777777777778, 62400.0],\n",
       "       [0.0, 1.0, 0.0, 53.0, 94800.0],\n",
       "       [0.0, 0.0, 1.0, 55.0, 99600.0],\n",
       "       [0.0, 1.0, 0.0, 42.0, 80400.0]], dtype=object)"
      ]
     },
     "execution_count": 10,
     "metadata": {},
     "output_type": "execute_result"
    }
   ],
   "source": [
    "X"
   ]
  },
  {
   "cell_type": "code",
   "execution_count": 11,
   "metadata": {},
   "outputs": [
    {
     "data": {
      "text/plain": [
       "array([0, 1, 0, 0, 1, 1, 0, 1, 0, 1])"
      ]
     },
     "execution_count": 11,
     "metadata": {},
     "output_type": "execute_result"
    }
   ],
   "source": [
    "Y"
   ]
  },
  {
   "cell_type": "code",
   "execution_count": 12,
   "metadata": {},
   "outputs": [],
   "source": [
    "# Memisahkan kumpulan data menjadi kumpulan data pelatihan dan pengujian\n",
    "# splitting the dataset into training set and test set\n",
    "X_train, X_test, Y_train, Y_test = train_test_split(X, Y, test_size=0.2, random_state=0)"
   ]
  },
  {
   "cell_type": "code",
   "execution_count": 13,
   "metadata": {},
   "outputs": [
    {
     "data": {
      "text/plain": [
       "array([[0.0, 0.0, 1.0, 45.0, 76533.33333333333],\n",
       "       [0.0, 1.0, 0.0, 42.0, 80400.0],\n",
       "       [1.0, 0.0, 0.0, 32.0, 57600.0],\n",
       "       [1.0, 0.0, 0.0, 43.77777777777778, 62400.0],\n",
       "       [0.0, 1.0, 0.0, 53.0, 94800.0],\n",
       "       [1.0, 0.0, 0.0, 43.0, 73200.0],\n",
       "       [0.0, 1.0, 0.0, 49.0, 86400.0],\n",
       "       [0.0, 1.0, 0.0, 40.0, 69600.0]], dtype=object)"
      ]
     },
     "execution_count": 13,
     "metadata": {},
     "output_type": "execute_result"
    }
   ],
   "source": [
    "X_train"
   ]
  },
  {
   "cell_type": "code",
   "execution_count": 14,
   "metadata": {},
   "outputs": [
    {
     "data": {
      "text/plain": [
       "array([[0.0, 0.0, 1.0, 35.0, 64800.0],\n",
       "       [0.0, 0.0, 1.0, 55.0, 99600.0]], dtype=object)"
      ]
     },
     "execution_count": 14,
     "metadata": {},
     "output_type": "execute_result"
    }
   ],
   "source": [
    "X_test"
   ]
  },
  {
   "cell_type": "code",
   "execution_count": 15,
   "metadata": {},
   "outputs": [],
   "source": [
    "# Penskalaan Fitur\n",
    "sc_X = StandardScaler()\n",
    "X_train = sc_X.fit_transform(X_train)\n",
    "X_test = sc_X.transform(X_test)"
   ]
  },
  {
   "cell_type": "code",
   "execution_count": 16,
   "metadata": {},
   "outputs": [
    {
     "data": {
      "text/plain": [
       "array([[-0.77459667, -1.        ,  2.64575131,  0.26306757,  0.12381479],\n",
       "       [-0.77459667,  1.        , -0.37796447, -0.25350148,  0.46175632],\n",
       "       [ 1.29099445, -1.        , -0.37796447, -1.97539832, -1.53093341],\n",
       "       [ 1.29099445, -1.        , -0.37796447,  0.05261351, -1.11141978],\n",
       "       [-0.77459667,  1.        , -0.37796447,  1.64058505,  1.7202972 ],\n",
       "       [ 1.29099445, -1.        , -0.37796447, -0.0813118 , -0.16751412],\n",
       "       [-0.77459667,  1.        , -0.37796447,  0.95182631,  0.98614835],\n",
       "       [-0.77459667,  1.        , -0.37796447, -0.59788085, -0.48214934]])"
      ]
     },
     "execution_count": 16,
     "metadata": {},
     "output_type": "execute_result"
    }
   ],
   "source": [
    "X_train"
   ]
  },
  {
   "cell_type": "code",
   "execution_count": 17,
   "metadata": {},
   "outputs": [
    {
     "data": {
      "text/plain": [
       "array([[-0.77459667, -1.        ,  2.64575131, -1.45882927, -0.90166297],\n",
       "       [-0.77459667, -1.        ,  2.64575131,  1.98496442,  2.13981082]])"
      ]
     },
     "execution_count": 17,
     "metadata": {},
     "output_type": "execute_result"
    }
   ],
   "source": [
    "X_test"
   ]
  },
  {
   "cell_type": "code",
   "execution_count": null,
   "metadata": {},
   "outputs": [],
   "source": []
  }
 ],
 "metadata": {
  "kernelspec": {
   "display_name": "Python 3",
   "language": "python",
   "name": "python3"
  },
  "language_info": {
   "codemirror_mode": {
    "name": "ipython",
    "version": 3
   },
   "file_extension": ".py",
   "mimetype": "text/x-python",
   "name": "python",
   "nbconvert_exporter": "python",
   "pygments_lexer": "ipython3",
   "version": "3.7.9"
  }
 },
 "nbformat": 4,
 "nbformat_minor": 4
}
