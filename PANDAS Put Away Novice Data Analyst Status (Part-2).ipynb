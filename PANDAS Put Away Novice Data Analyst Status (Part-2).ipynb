{
 "cells": [
  {
   "cell_type": "markdown",
   "metadata": {},
   "source": [
    "Pada artikel ini, kami akan membahas dengan contoh -\n",
    "1. Agregasi Data menggunakan groupby () dan agg ().\n",
    "2. Merencanakan Data menggunakan plot ().\n",
    "3. Styling Pandas DataFrame menggunakan properti .style.\n",
    "4. Pivoting data- mengubah data format panjang menjadi format lebar.\n",
    "5. Menemukan baris dan kolom yang memiliki nilai min atau max menggunakan idxmin () dan idxmax ().\n",
    "6. MultiIndex- menyederhanakan kueri Anda.\n",
    "7. Menggabungkan MultiIndex menjadi satu indeks."
   ]
  },
  {
   "cell_type": "code",
   "execution_count": 30,
   "metadata": {},
   "outputs": [],
   "source": [
    "import pandas as pd"
   ]
  },
  {
   "cell_type": "code",
   "execution_count": 31,
   "metadata": {},
   "outputs": [
    {
     "data": {
      "text/html": [
       "<div>\n",
       "<style scoped>\n",
       "    .dataframe tbody tr th:only-of-type {\n",
       "        vertical-align: middle;\n",
       "    }\n",
       "\n",
       "    .dataframe tbody tr th {\n",
       "        vertical-align: top;\n",
       "    }\n",
       "\n",
       "    .dataframe thead th {\n",
       "        text-align: right;\n",
       "    }\n",
       "</style>\n",
       "<table border=\"1\" class=\"dataframe\">\n",
       "  <thead>\n",
       "    <tr style=\"text-align: right;\">\n",
       "      <th></th>\n",
       "      <th>iso_code</th>\n",
       "      <th>continent</th>\n",
       "      <th>location</th>\n",
       "      <th>date</th>\n",
       "      <th>new_cases</th>\n",
       "      <th>new_deaths</th>\n",
       "      <th>new_tests</th>\n",
       "    </tr>\n",
       "  </thead>\n",
       "  <tbody>\n",
       "    <tr>\n",
       "      <th>33756</th>\n",
       "      <td>USA</td>\n",
       "      <td>North America</td>\n",
       "      <td>United States</td>\n",
       "      <td>2020-07-30</td>\n",
       "      <td>74985</td>\n",
       "      <td>1457</td>\n",
       "      <td>805854.0</td>\n",
       "    </tr>\n",
       "    <tr>\n",
       "      <th>4792</th>\n",
       "      <td>BRA</td>\n",
       "      <td>South America</td>\n",
       "      <td>Brazil</td>\n",
       "      <td>2020-07-30</td>\n",
       "      <td>69074</td>\n",
       "      <td>1595</td>\n",
       "      <td>NaN</td>\n",
       "    </tr>\n",
       "    <tr>\n",
       "      <th>33757</th>\n",
       "      <td>USA</td>\n",
       "      <td>North America</td>\n",
       "      <td>United States</td>\n",
       "      <td>2020-07-31</td>\n",
       "      <td>68032</td>\n",
       "      <td>1357</td>\n",
       "      <td>725982.0</td>\n",
       "    </tr>\n",
       "    <tr>\n",
       "      <th>33758</th>\n",
       "      <td>USA</td>\n",
       "      <td>North America</td>\n",
       "      <td>United States</td>\n",
       "      <td>2020-08-01</td>\n",
       "      <td>67023</td>\n",
       "      <td>1244</td>\n",
       "      <td>726010.0</td>\n",
       "    </tr>\n",
       "    <tr>\n",
       "      <th>15086</th>\n",
       "      <td>IND</td>\n",
       "      <td>Asia</td>\n",
       "      <td>India</td>\n",
       "      <td>2020-08-07</td>\n",
       "      <td>62538</td>\n",
       "      <td>886</td>\n",
       "      <td>639042.0</td>\n",
       "    </tr>\n",
       "  </tbody>\n",
       "</table>\n",
       "</div>"
      ],
      "text/plain": [
       "      iso_code      continent       location        date  new_cases  \\\n",
       "33756      USA  North America  United States  2020-07-30      74985   \n",
       "4792       BRA  South America         Brazil  2020-07-30      69074   \n",
       "33757      USA  North America  United States  2020-07-31      68032   \n",
       "33758      USA  North America  United States  2020-08-01      67023   \n",
       "15086      IND           Asia          India  2020-08-07      62538   \n",
       "\n",
       "       new_deaths  new_tests  \n",
       "33756        1457   805854.0  \n",
       "4792         1595        NaN  \n",
       "33757        1357   725982.0  \n",
       "33758        1244   726010.0  \n",
       "15086         886   639042.0  "
      ]
     },
     "execution_count": 31,
     "metadata": {},
     "output_type": "execute_result"
    }
   ],
   "source": [
    "data1 = pd.read_csv('owid-covid-data.csv')\n",
    "data.head()"
   ]
  },
  {
   "cell_type": "code",
   "execution_count": 32,
   "metadata": {},
   "outputs": [
    {
     "data": {
      "text/html": [
       "<div>\n",
       "<style scoped>\n",
       "    .dataframe tbody tr th:only-of-type {\n",
       "        vertical-align: middle;\n",
       "    }\n",
       "\n",
       "    .dataframe tbody tr th {\n",
       "        vertical-align: top;\n",
       "    }\n",
       "\n",
       "    .dataframe thead th {\n",
       "        text-align: right;\n",
       "    }\n",
       "</style>\n",
       "<table border=\"1\" class=\"dataframe\">\n",
       "  <thead>\n",
       "    <tr style=\"text-align: right;\">\n",
       "      <th></th>\n",
       "      <th>date</th>\n",
       "      <th>new_cases</th>\n",
       "    </tr>\n",
       "  </thead>\n",
       "  <tbody>\n",
       "    <tr>\n",
       "      <th>217</th>\n",
       "      <td>2020-08-04</td>\n",
       "      <td>409558.0</td>\n",
       "    </tr>\n",
       "    <tr>\n",
       "      <th>218</th>\n",
       "      <td>2020-08-05</td>\n",
       "      <td>507318.0</td>\n",
       "    </tr>\n",
       "    <tr>\n",
       "      <th>219</th>\n",
       "      <td>2020-08-06</td>\n",
       "      <td>549698.0</td>\n",
       "    </tr>\n",
       "    <tr>\n",
       "      <th>220</th>\n",
       "      <td>2020-08-07</td>\n",
       "      <td>568194.0</td>\n",
       "    </tr>\n",
       "    <tr>\n",
       "      <th>221</th>\n",
       "      <td>2020-08-08</td>\n",
       "      <td>548266.0</td>\n",
       "    </tr>\n",
       "  </tbody>\n",
       "</table>\n",
       "</div>"
      ],
      "text/plain": [
       "           date  new_cases\n",
       "217  2020-08-04   409558.0\n",
       "218  2020-08-05   507318.0\n",
       "219  2020-08-06   549698.0\n",
       "220  2020-08-07   568194.0\n",
       "221  2020-08-08   548266.0"
      ]
     },
     "execution_count": 32,
     "metadata": {},
     "output_type": "execute_result"
    }
   ],
   "source": [
    "# here we are chaining multiple operations together\n",
    "# Step 1: grouping data by date.\n",
    "# Step 2: selecting new_cases from the group.\n",
    "# Step 3: calculating the sum of the new_cases.\n",
    "# Step 4: doing a groupby changes the index, so resetting it\n",
    "# Step 5: selecting Last 5 records.\n",
    "data1.groupby('date').new_cases.sum().reset_index().tail(5)"
   ]
  },
  {
   "cell_type": "code",
   "execution_count": 33,
   "metadata": {},
   "outputs": [
    {
     "data": {
      "text/html": [
       "<div>\n",
       "<style scoped>\n",
       "    .dataframe tbody tr th:only-of-type {\n",
       "        vertical-align: middle;\n",
       "    }\n",
       "\n",
       "    .dataframe tbody tr th {\n",
       "        vertical-align: top;\n",
       "    }\n",
       "\n",
       "    .dataframe thead tr th {\n",
       "        text-align: left;\n",
       "    }\n",
       "</style>\n",
       "<table border=\"1\" class=\"dataframe\">\n",
       "  <thead>\n",
       "    <tr>\n",
       "      <th></th>\n",
       "      <th>date</th>\n",
       "      <th colspan=\"2\" halign=\"left\">new_cases</th>\n",
       "      <th colspan=\"2\" halign=\"left\">new_deaths</th>\n",
       "      <th>new_tests</th>\n",
       "      <th>location</th>\n",
       "    </tr>\n",
       "    <tr>\n",
       "      <th></th>\n",
       "      <th></th>\n",
       "      <th>sum</th>\n",
       "      <th>max</th>\n",
       "      <th>sum</th>\n",
       "      <th>max</th>\n",
       "      <th>sum</th>\n",
       "      <th>nunique</th>\n",
       "    </tr>\n",
       "  </thead>\n",
       "  <tbody>\n",
       "    <tr>\n",
       "      <th>217</th>\n",
       "      <td>2020-08-04</td>\n",
       "      <td>409558.0</td>\n",
       "      <td>204779.0</td>\n",
       "      <td>8996.0</td>\n",
       "      <td>4498.0</td>\n",
       "      <td>2479411.0</td>\n",
       "      <td>211</td>\n",
       "    </tr>\n",
       "    <tr>\n",
       "      <th>218</th>\n",
       "      <td>2020-08-05</td>\n",
       "      <td>507318.0</td>\n",
       "      <td>253659.0</td>\n",
       "      <td>13622.0</td>\n",
       "      <td>6811.0</td>\n",
       "      <td>2334686.0</td>\n",
       "      <td>210</td>\n",
       "    </tr>\n",
       "    <tr>\n",
       "      <th>219</th>\n",
       "      <td>2020-08-06</td>\n",
       "      <td>549698.0</td>\n",
       "      <td>274849.0</td>\n",
       "      <td>14344.0</td>\n",
       "      <td>7172.0</td>\n",
       "      <td>2214333.0</td>\n",
       "      <td>210</td>\n",
       "    </tr>\n",
       "    <tr>\n",
       "      <th>220</th>\n",
       "      <td>2020-08-07</td>\n",
       "      <td>568194.0</td>\n",
       "      <td>284097.0</td>\n",
       "      <td>13820.0</td>\n",
       "      <td>6910.0</td>\n",
       "      <td>811897.0</td>\n",
       "      <td>210</td>\n",
       "    </tr>\n",
       "    <tr>\n",
       "      <th>221</th>\n",
       "      <td>2020-08-08</td>\n",
       "      <td>548266.0</td>\n",
       "      <td>274133.0</td>\n",
       "      <td>13096.0</td>\n",
       "      <td>6548.0</td>\n",
       "      <td>0.0</td>\n",
       "      <td>209</td>\n",
       "    </tr>\n",
       "  </tbody>\n",
       "</table>\n",
       "</div>"
      ],
      "text/plain": [
       "           date new_cases           new_deaths          new_tests location\n",
       "                      sum       max        sum     max        sum  nunique\n",
       "217  2020-08-04  409558.0  204779.0     8996.0  4498.0  2479411.0      211\n",
       "218  2020-08-05  507318.0  253659.0    13622.0  6811.0  2334686.0      210\n",
       "219  2020-08-06  549698.0  274849.0    14344.0  7172.0  2214333.0      210\n",
       "220  2020-08-07  568194.0  284097.0    13820.0  6910.0   811897.0      210\n",
       "221  2020-08-08  548266.0  274133.0    13096.0  6548.0        0.0      209"
      ]
     },
     "execution_count": 33,
     "metadata": {},
     "output_type": "execute_result"
    }
   ],
   "source": [
    "# we are finding totals using sum and maximum using max\n",
    "# Also, we used nunique to find unique number of countries reporting\n",
    "data1.groupby('date').agg({'new_cases':['sum','max'], \n",
    "                          'new_deaths':['sum','max'],\n",
    "                          'new_tests':['sum'],\n",
    "                          'location':'nunique',\n",
    "                         }).reset_index().tail(5)"
   ]
  },
  {
   "cell_type": "code",
   "execution_count": 34,
   "metadata": {},
   "outputs": [
    {
     "data": {
      "text/html": [
       "<div>\n",
       "<style scoped>\n",
       "    .dataframe tbody tr th:only-of-type {\n",
       "        vertical-align: middle;\n",
       "    }\n",
       "\n",
       "    .dataframe tbody tr th {\n",
       "        vertical-align: top;\n",
       "    }\n",
       "\n",
       "    .dataframe thead th {\n",
       "        text-align: right;\n",
       "    }\n",
       "</style>\n",
       "<table border=\"1\" class=\"dataframe\">\n",
       "  <thead>\n",
       "    <tr style=\"text-align: right;\">\n",
       "      <th></th>\n",
       "      <th>date</th>\n",
       "      <th>total_new_cases</th>\n",
       "      <th>max_new_cases_country</th>\n",
       "      <th>total_new_deaths</th>\n",
       "      <th>max_new_deaths_country</th>\n",
       "      <th>total_new_tests</th>\n",
       "      <th>total_countries_reported</th>\n",
       "    </tr>\n",
       "  </thead>\n",
       "  <tbody>\n",
       "    <tr>\n",
       "      <th>217</th>\n",
       "      <td>2020-08-04</td>\n",
       "      <td>409558.0</td>\n",
       "      <td>204779.0</td>\n",
       "      <td>8996.0</td>\n",
       "      <td>4498.0</td>\n",
       "      <td>2479411.0</td>\n",
       "      <td>211</td>\n",
       "    </tr>\n",
       "    <tr>\n",
       "      <th>218</th>\n",
       "      <td>2020-08-05</td>\n",
       "      <td>507318.0</td>\n",
       "      <td>253659.0</td>\n",
       "      <td>13622.0</td>\n",
       "      <td>6811.0</td>\n",
       "      <td>2334686.0</td>\n",
       "      <td>210</td>\n",
       "    </tr>\n",
       "    <tr>\n",
       "      <th>219</th>\n",
       "      <td>2020-08-06</td>\n",
       "      <td>549698.0</td>\n",
       "      <td>274849.0</td>\n",
       "      <td>14344.0</td>\n",
       "      <td>7172.0</td>\n",
       "      <td>2214333.0</td>\n",
       "      <td>210</td>\n",
       "    </tr>\n",
       "    <tr>\n",
       "      <th>220</th>\n",
       "      <td>2020-08-07</td>\n",
       "      <td>568194.0</td>\n",
       "      <td>284097.0</td>\n",
       "      <td>13820.0</td>\n",
       "      <td>6910.0</td>\n",
       "      <td>811897.0</td>\n",
       "      <td>210</td>\n",
       "    </tr>\n",
       "    <tr>\n",
       "      <th>221</th>\n",
       "      <td>2020-08-08</td>\n",
       "      <td>548266.0</td>\n",
       "      <td>274133.0</td>\n",
       "      <td>13096.0</td>\n",
       "      <td>6548.0</td>\n",
       "      <td>0.0</td>\n",
       "      <td>209</td>\n",
       "    </tr>\n",
       "  </tbody>\n",
       "</table>\n",
       "</div>"
      ],
      "text/plain": [
       "           date  total_new_cases  max_new_cases_country  total_new_deaths  \\\n",
       "217  2020-08-04         409558.0               204779.0            8996.0   \n",
       "218  2020-08-05         507318.0               253659.0           13622.0   \n",
       "219  2020-08-06         549698.0               274849.0           14344.0   \n",
       "220  2020-08-07         568194.0               284097.0           13820.0   \n",
       "221  2020-08-08         548266.0               274133.0           13096.0   \n",
       "\n",
       "     max_new_deaths_country  total_new_tests  total_countries_reported  \n",
       "217                  4498.0        2479411.0                       211  \n",
       "218                  6811.0        2334686.0                       210  \n",
       "219                  7172.0        2214333.0                       210  \n",
       "220                  6910.0         811897.0                       210  \n",
       "221                  6548.0              0.0                       209  "
      ]
     },
     "execution_count": 34,
     "metadata": {},
     "output_type": "execute_result"
    }
   ],
   "source": [
    "# naming the aggregations, you can use any name for the aggregate\n",
    "data1.groupby('date').agg(\n",
    "               total_new_cases = ('new_cases','sum'),\n",
    "               max_new_cases_country = ('new_cases','max'),\n",
    "               total_new_deaths = ('new_deaths','sum'),\n",
    "               max_new_deaths_country = ('new_deaths','max'),\n",
    "               total_new_tests = ('new_tests','sum'),\n",
    "               total_countries_reported = ('location','nunique')\n",
    "              ).reset_index().tail(5)"
   ]
  },
  {
   "cell_type": "code",
   "execution_count": 35,
   "metadata": {},
   "outputs": [],
   "source": [
    "data = pd.read_excel('styled_data.xls', index_col=0) \n",
    "# 2. Data Plotting using Plot( )\n",
    "# Set plotting backend as plotly\n",
    "pd.options.plotting.backend = \"plotly\""
   ]
  },
  {
   "cell_type": "code",
   "execution_count": 36,
   "metadata": {},
   "outputs": [
    {
     "data": {
      "application/vnd.plotly.v1+json": {
       "config": {
        "plotlyServerURL": "https://plot.ly"
       },
       "data": [
        {
         "alignmentgroup": "True",
         "hovertemplate": "location=United States<br>date=%{x}<br>new_cases=%{y}<extra></extra>",
         "legendgroup": "United States",
         "marker": {
          "color": "#636efa"
         },
         "name": "United States",
         "offsetgroup": "United States",
         "orientation": "v",
         "showlegend": true,
         "textposition": "auto",
         "type": "bar",
         "x": [
          "2020-07-30",
          "2020-07-31",
          "2020-08-01",
          "2020-07-29",
          "2020-08-07",
          "2020-08-02",
          "2020-08-05"
         ],
         "xaxis": "x",
         "y": [
          74985,
          68032,
          67023,
          61734,
          59755,
          58407,
          57525
         ],
         "yaxis": "y"
        },
        {
         "alignmentgroup": "True",
         "hovertemplate": "location=Brazil<br>date=%{x}<br>new_cases=%{y}<extra></extra>",
         "legendgroup": "Brazil",
         "marker": {
          "color": "#EF553B"
         },
         "name": "Brazil",
         "offsetgroup": "Brazil",
         "orientation": "v",
         "showlegend": true,
         "textposition": "auto",
         "type": "bar",
         "x": [
          "2020-07-30",
          "2020-07-31"
         ],
         "xaxis": "x",
         "y": [
          69074,
          57837
         ],
         "yaxis": "y"
        },
        {
         "alignmentgroup": "True",
         "hovertemplate": "location=India<br>date=%{x}<br>new_cases=%{y}<extra></extra>",
         "legendgroup": "India",
         "marker": {
          "color": "#00cc96"
         },
         "name": "India",
         "offsetgroup": "India",
         "orientation": "v",
         "showlegend": true,
         "textposition": "auto",
         "type": "bar",
         "x": [
          "2020-08-07"
         ],
         "xaxis": "x",
         "y": [
          62538
         ],
         "yaxis": "y"
        }
       ],
       "layout": {
        "barmode": "relative",
        "legend": {
         "title": {
          "text": "location"
         },
         "tracegroupgap": 0
        },
        "margin": {
         "t": 60
        },
        "template": {
         "data": {
          "bar": [
           {
            "error_x": {
             "color": "#2a3f5f"
            },
            "error_y": {
             "color": "#2a3f5f"
            },
            "marker": {
             "line": {
              "color": "#E5ECF6",
              "width": 0.5
             }
            },
            "type": "bar"
           }
          ],
          "barpolar": [
           {
            "marker": {
             "line": {
              "color": "#E5ECF6",
              "width": 0.5
             }
            },
            "type": "barpolar"
           }
          ],
          "carpet": [
           {
            "aaxis": {
             "endlinecolor": "#2a3f5f",
             "gridcolor": "white",
             "linecolor": "white",
             "minorgridcolor": "white",
             "startlinecolor": "#2a3f5f"
            },
            "baxis": {
             "endlinecolor": "#2a3f5f",
             "gridcolor": "white",
             "linecolor": "white",
             "minorgridcolor": "white",
             "startlinecolor": "#2a3f5f"
            },
            "type": "carpet"
           }
          ],
          "choropleth": [
           {
            "colorbar": {
             "outlinewidth": 0,
             "ticks": ""
            },
            "type": "choropleth"
           }
          ],
          "contour": [
           {
            "colorbar": {
             "outlinewidth": 0,
             "ticks": ""
            },
            "colorscale": [
             [
              0,
              "#0d0887"
             ],
             [
              0.1111111111111111,
              "#46039f"
             ],
             [
              0.2222222222222222,
              "#7201a8"
             ],
             [
              0.3333333333333333,
              "#9c179e"
             ],
             [
              0.4444444444444444,
              "#bd3786"
             ],
             [
              0.5555555555555556,
              "#d8576b"
             ],
             [
              0.6666666666666666,
              "#ed7953"
             ],
             [
              0.7777777777777778,
              "#fb9f3a"
             ],
             [
              0.8888888888888888,
              "#fdca26"
             ],
             [
              1,
              "#f0f921"
             ]
            ],
            "type": "contour"
           }
          ],
          "contourcarpet": [
           {
            "colorbar": {
             "outlinewidth": 0,
             "ticks": ""
            },
            "type": "contourcarpet"
           }
          ],
          "heatmap": [
           {
            "colorbar": {
             "outlinewidth": 0,
             "ticks": ""
            },
            "colorscale": [
             [
              0,
              "#0d0887"
             ],
             [
              0.1111111111111111,
              "#46039f"
             ],
             [
              0.2222222222222222,
              "#7201a8"
             ],
             [
              0.3333333333333333,
              "#9c179e"
             ],
             [
              0.4444444444444444,
              "#bd3786"
             ],
             [
              0.5555555555555556,
              "#d8576b"
             ],
             [
              0.6666666666666666,
              "#ed7953"
             ],
             [
              0.7777777777777778,
              "#fb9f3a"
             ],
             [
              0.8888888888888888,
              "#fdca26"
             ],
             [
              1,
              "#f0f921"
             ]
            ],
            "type": "heatmap"
           }
          ],
          "heatmapgl": [
           {
            "colorbar": {
             "outlinewidth": 0,
             "ticks": ""
            },
            "colorscale": [
             [
              0,
              "#0d0887"
             ],
             [
              0.1111111111111111,
              "#46039f"
             ],
             [
              0.2222222222222222,
              "#7201a8"
             ],
             [
              0.3333333333333333,
              "#9c179e"
             ],
             [
              0.4444444444444444,
              "#bd3786"
             ],
             [
              0.5555555555555556,
              "#d8576b"
             ],
             [
              0.6666666666666666,
              "#ed7953"
             ],
             [
              0.7777777777777778,
              "#fb9f3a"
             ],
             [
              0.8888888888888888,
              "#fdca26"
             ],
             [
              1,
              "#f0f921"
             ]
            ],
            "type": "heatmapgl"
           }
          ],
          "histogram": [
           {
            "marker": {
             "colorbar": {
              "outlinewidth": 0,
              "ticks": ""
             }
            },
            "type": "histogram"
           }
          ],
          "histogram2d": [
           {
            "colorbar": {
             "outlinewidth": 0,
             "ticks": ""
            },
            "colorscale": [
             [
              0,
              "#0d0887"
             ],
             [
              0.1111111111111111,
              "#46039f"
             ],
             [
              0.2222222222222222,
              "#7201a8"
             ],
             [
              0.3333333333333333,
              "#9c179e"
             ],
             [
              0.4444444444444444,
              "#bd3786"
             ],
             [
              0.5555555555555556,
              "#d8576b"
             ],
             [
              0.6666666666666666,
              "#ed7953"
             ],
             [
              0.7777777777777778,
              "#fb9f3a"
             ],
             [
              0.8888888888888888,
              "#fdca26"
             ],
             [
              1,
              "#f0f921"
             ]
            ],
            "type": "histogram2d"
           }
          ],
          "histogram2dcontour": [
           {
            "colorbar": {
             "outlinewidth": 0,
             "ticks": ""
            },
            "colorscale": [
             [
              0,
              "#0d0887"
             ],
             [
              0.1111111111111111,
              "#46039f"
             ],
             [
              0.2222222222222222,
              "#7201a8"
             ],
             [
              0.3333333333333333,
              "#9c179e"
             ],
             [
              0.4444444444444444,
              "#bd3786"
             ],
             [
              0.5555555555555556,
              "#d8576b"
             ],
             [
              0.6666666666666666,
              "#ed7953"
             ],
             [
              0.7777777777777778,
              "#fb9f3a"
             ],
             [
              0.8888888888888888,
              "#fdca26"
             ],
             [
              1,
              "#f0f921"
             ]
            ],
            "type": "histogram2dcontour"
           }
          ],
          "mesh3d": [
           {
            "colorbar": {
             "outlinewidth": 0,
             "ticks": ""
            },
            "type": "mesh3d"
           }
          ],
          "parcoords": [
           {
            "line": {
             "colorbar": {
              "outlinewidth": 0,
              "ticks": ""
             }
            },
            "type": "parcoords"
           }
          ],
          "pie": [
           {
            "automargin": true,
            "type": "pie"
           }
          ],
          "scatter": [
           {
            "marker": {
             "colorbar": {
              "outlinewidth": 0,
              "ticks": ""
             }
            },
            "type": "scatter"
           }
          ],
          "scatter3d": [
           {
            "line": {
             "colorbar": {
              "outlinewidth": 0,
              "ticks": ""
             }
            },
            "marker": {
             "colorbar": {
              "outlinewidth": 0,
              "ticks": ""
             }
            },
            "type": "scatter3d"
           }
          ],
          "scattercarpet": [
           {
            "marker": {
             "colorbar": {
              "outlinewidth": 0,
              "ticks": ""
             }
            },
            "type": "scattercarpet"
           }
          ],
          "scattergeo": [
           {
            "marker": {
             "colorbar": {
              "outlinewidth": 0,
              "ticks": ""
             }
            },
            "type": "scattergeo"
           }
          ],
          "scattergl": [
           {
            "marker": {
             "colorbar": {
              "outlinewidth": 0,
              "ticks": ""
             }
            },
            "type": "scattergl"
           }
          ],
          "scattermapbox": [
           {
            "marker": {
             "colorbar": {
              "outlinewidth": 0,
              "ticks": ""
             }
            },
            "type": "scattermapbox"
           }
          ],
          "scatterpolar": [
           {
            "marker": {
             "colorbar": {
              "outlinewidth": 0,
              "ticks": ""
             }
            },
            "type": "scatterpolar"
           }
          ],
          "scatterpolargl": [
           {
            "marker": {
             "colorbar": {
              "outlinewidth": 0,
              "ticks": ""
             }
            },
            "type": "scatterpolargl"
           }
          ],
          "scatterternary": [
           {
            "marker": {
             "colorbar": {
              "outlinewidth": 0,
              "ticks": ""
             }
            },
            "type": "scatterternary"
           }
          ],
          "surface": [
           {
            "colorbar": {
             "outlinewidth": 0,
             "ticks": ""
            },
            "colorscale": [
             [
              0,
              "#0d0887"
             ],
             [
              0.1111111111111111,
              "#46039f"
             ],
             [
              0.2222222222222222,
              "#7201a8"
             ],
             [
              0.3333333333333333,
              "#9c179e"
             ],
             [
              0.4444444444444444,
              "#bd3786"
             ],
             [
              0.5555555555555556,
              "#d8576b"
             ],
             [
              0.6666666666666666,
              "#ed7953"
             ],
             [
              0.7777777777777778,
              "#fb9f3a"
             ],
             [
              0.8888888888888888,
              "#fdca26"
             ],
             [
              1,
              "#f0f921"
             ]
            ],
            "type": "surface"
           }
          ],
          "table": [
           {
            "cells": {
             "fill": {
              "color": "#EBF0F8"
             },
             "line": {
              "color": "white"
             }
            },
            "header": {
             "fill": {
              "color": "#C8D4E3"
             },
             "line": {
              "color": "white"
             }
            },
            "type": "table"
           }
          ]
         },
         "layout": {
          "annotationdefaults": {
           "arrowcolor": "#2a3f5f",
           "arrowhead": 0,
           "arrowwidth": 1
          },
          "coloraxis": {
           "colorbar": {
            "outlinewidth": 0,
            "ticks": ""
           }
          },
          "colorscale": {
           "diverging": [
            [
             0,
             "#8e0152"
            ],
            [
             0.1,
             "#c51b7d"
            ],
            [
             0.2,
             "#de77ae"
            ],
            [
             0.3,
             "#f1b6da"
            ],
            [
             0.4,
             "#fde0ef"
            ],
            [
             0.5,
             "#f7f7f7"
            ],
            [
             0.6,
             "#e6f5d0"
            ],
            [
             0.7,
             "#b8e186"
            ],
            [
             0.8,
             "#7fbc41"
            ],
            [
             0.9,
             "#4d9221"
            ],
            [
             1,
             "#276419"
            ]
           ],
           "sequential": [
            [
             0,
             "#0d0887"
            ],
            [
             0.1111111111111111,
             "#46039f"
            ],
            [
             0.2222222222222222,
             "#7201a8"
            ],
            [
             0.3333333333333333,
             "#9c179e"
            ],
            [
             0.4444444444444444,
             "#bd3786"
            ],
            [
             0.5555555555555556,
             "#d8576b"
            ],
            [
             0.6666666666666666,
             "#ed7953"
            ],
            [
             0.7777777777777778,
             "#fb9f3a"
            ],
            [
             0.8888888888888888,
             "#fdca26"
            ],
            [
             1,
             "#f0f921"
            ]
           ],
           "sequentialminus": [
            [
             0,
             "#0d0887"
            ],
            [
             0.1111111111111111,
             "#46039f"
            ],
            [
             0.2222222222222222,
             "#7201a8"
            ],
            [
             0.3333333333333333,
             "#9c179e"
            ],
            [
             0.4444444444444444,
             "#bd3786"
            ],
            [
             0.5555555555555556,
             "#d8576b"
            ],
            [
             0.6666666666666666,
             "#ed7953"
            ],
            [
             0.7777777777777778,
             "#fb9f3a"
            ],
            [
             0.8888888888888888,
             "#fdca26"
            ],
            [
             1,
             "#f0f921"
            ]
           ]
          },
          "colorway": [
           "#636efa",
           "#EF553B",
           "#00cc96",
           "#ab63fa",
           "#FFA15A",
           "#19d3f3",
           "#FF6692",
           "#B6E880",
           "#FF97FF",
           "#FECB52"
          ],
          "font": {
           "color": "#2a3f5f"
          },
          "geo": {
           "bgcolor": "white",
           "lakecolor": "white",
           "landcolor": "#E5ECF6",
           "showlakes": true,
           "showland": true,
           "subunitcolor": "white"
          },
          "hoverlabel": {
           "align": "left"
          },
          "hovermode": "closest",
          "mapbox": {
           "style": "light"
          },
          "paper_bgcolor": "white",
          "plot_bgcolor": "#E5ECF6",
          "polar": {
           "angularaxis": {
            "gridcolor": "white",
            "linecolor": "white",
            "ticks": ""
           },
           "bgcolor": "#E5ECF6",
           "radialaxis": {
            "gridcolor": "white",
            "linecolor": "white",
            "ticks": ""
           }
          },
          "scene": {
           "xaxis": {
            "backgroundcolor": "#E5ECF6",
            "gridcolor": "white",
            "gridwidth": 2,
            "linecolor": "white",
            "showbackground": true,
            "ticks": "",
            "zerolinecolor": "white"
           },
           "yaxis": {
            "backgroundcolor": "#E5ECF6",
            "gridcolor": "white",
            "gridwidth": 2,
            "linecolor": "white",
            "showbackground": true,
            "ticks": "",
            "zerolinecolor": "white"
           },
           "zaxis": {
            "backgroundcolor": "#E5ECF6",
            "gridcolor": "white",
            "gridwidth": 2,
            "linecolor": "white",
            "showbackground": true,
            "ticks": "",
            "zerolinecolor": "white"
           }
          },
          "shapedefaults": {
           "line": {
            "color": "#2a3f5f"
           }
          },
          "ternary": {
           "aaxis": {
            "gridcolor": "white",
            "linecolor": "white",
            "ticks": ""
           },
           "baxis": {
            "gridcolor": "white",
            "linecolor": "white",
            "ticks": ""
           },
           "bgcolor": "#E5ECF6",
           "caxis": {
            "gridcolor": "white",
            "linecolor": "white",
            "ticks": ""
           }
          },
          "title": {
           "x": 0.05
          },
          "xaxis": {
           "automargin": true,
           "gridcolor": "white",
           "linecolor": "white",
           "ticks": "",
           "title": {
            "standoff": 15
           },
           "zerolinecolor": "white",
           "zerolinewidth": 2
          },
          "yaxis": {
           "automargin": true,
           "gridcolor": "white",
           "linecolor": "white",
           "ticks": "",
           "title": {
            "standoff": 15
           },
           "zerolinecolor": "white",
           "zerolinewidth": 2
          }
         }
        },
        "xaxis": {
         "anchor": "y",
         "domain": [
          0,
          1
         ],
         "title": {
          "text": "date"
         }
        },
        "yaxis": {
         "anchor": "x",
         "domain": [
          0,
          1
         ],
         "title": {
          "text": "new_cases"
         }
        }
       }
      },
      "text/html": [
       "<div>                            <div id=\"62547cd2-b1b6-4365-ad67-5f91cae0e4f3\" class=\"plotly-graph-div\" style=\"height:525px; width:100%;\"></div>            <script type=\"text/javascript\">                require([\"plotly\"], function(Plotly) {                    window.PLOTLYENV=window.PLOTLYENV || {};                                    if (document.getElementById(\"62547cd2-b1b6-4365-ad67-5f91cae0e4f3\")) {                    Plotly.newPlot(                        \"62547cd2-b1b6-4365-ad67-5f91cae0e4f3\",                        [{\"alignmentgroup\": \"True\", \"hovertemplate\": \"location=United States<br>date=%{x}<br>new_cases=%{y}<extra></extra>\", \"legendgroup\": \"United States\", \"marker\": {\"color\": \"#636efa\"}, \"name\": \"United States\", \"offsetgroup\": \"United States\", \"orientation\": \"v\", \"showlegend\": true, \"textposition\": \"auto\", \"type\": \"bar\", \"x\": [\"2020-07-30\", \"2020-07-31\", \"2020-08-01\", \"2020-07-29\", \"2020-08-07\", \"2020-08-02\", \"2020-08-05\"], \"xaxis\": \"x\", \"y\": [74985, 68032, 67023, 61734, 59755, 58407, 57525], \"yaxis\": \"y\"}, {\"alignmentgroup\": \"True\", \"hovertemplate\": \"location=Brazil<br>date=%{x}<br>new_cases=%{y}<extra></extra>\", \"legendgroup\": \"Brazil\", \"marker\": {\"color\": \"#EF553B\"}, \"name\": \"Brazil\", \"offsetgroup\": \"Brazil\", \"orientation\": \"v\", \"showlegend\": true, \"textposition\": \"auto\", \"type\": \"bar\", \"x\": [\"2020-07-30\", \"2020-07-31\"], \"xaxis\": \"x\", \"y\": [69074, 57837], \"yaxis\": \"y\"}, {\"alignmentgroup\": \"True\", \"hovertemplate\": \"location=India<br>date=%{x}<br>new_cases=%{y}<extra></extra>\", \"legendgroup\": \"India\", \"marker\": {\"color\": \"#00cc96\"}, \"name\": \"India\", \"offsetgroup\": \"India\", \"orientation\": \"v\", \"showlegend\": true, \"textposition\": \"auto\", \"type\": \"bar\", \"x\": [\"2020-08-07\"], \"xaxis\": \"x\", \"y\": [62538], \"yaxis\": \"y\"}],                        {\"barmode\": \"relative\", \"legend\": {\"title\": {\"text\": \"location\"}, \"tracegroupgap\": 0}, \"margin\": {\"t\": 60}, \"template\": {\"data\": {\"bar\": [{\"error_x\": {\"color\": \"#2a3f5f\"}, \"error_y\": {\"color\": \"#2a3f5f\"}, \"marker\": {\"line\": {\"color\": \"#E5ECF6\", \"width\": 0.5}}, \"type\": \"bar\"}], \"barpolar\": [{\"marker\": {\"line\": {\"color\": \"#E5ECF6\", \"width\": 0.5}}, \"type\": \"barpolar\"}], \"carpet\": [{\"aaxis\": {\"endlinecolor\": \"#2a3f5f\", \"gridcolor\": \"white\", \"linecolor\": \"white\", \"minorgridcolor\": \"white\", \"startlinecolor\": \"#2a3f5f\"}, \"baxis\": {\"endlinecolor\": \"#2a3f5f\", \"gridcolor\": \"white\", \"linecolor\": \"white\", \"minorgridcolor\": \"white\", \"startlinecolor\": \"#2a3f5f\"}, \"type\": \"carpet\"}], \"choropleth\": [{\"colorbar\": {\"outlinewidth\": 0, \"ticks\": \"\"}, \"type\": \"choropleth\"}], \"contour\": [{\"colorbar\": {\"outlinewidth\": 0, \"ticks\": \"\"}, \"colorscale\": [[0.0, \"#0d0887\"], [0.1111111111111111, \"#46039f\"], [0.2222222222222222, \"#7201a8\"], [0.3333333333333333, \"#9c179e\"], [0.4444444444444444, \"#bd3786\"], [0.5555555555555556, \"#d8576b\"], [0.6666666666666666, \"#ed7953\"], [0.7777777777777778, \"#fb9f3a\"], [0.8888888888888888, \"#fdca26\"], [1.0, \"#f0f921\"]], \"type\": \"contour\"}], \"contourcarpet\": [{\"colorbar\": {\"outlinewidth\": 0, \"ticks\": \"\"}, \"type\": \"contourcarpet\"}], \"heatmap\": [{\"colorbar\": {\"outlinewidth\": 0, \"ticks\": \"\"}, \"colorscale\": [[0.0, \"#0d0887\"], [0.1111111111111111, \"#46039f\"], [0.2222222222222222, \"#7201a8\"], [0.3333333333333333, \"#9c179e\"], [0.4444444444444444, \"#bd3786\"], [0.5555555555555556, \"#d8576b\"], [0.6666666666666666, \"#ed7953\"], [0.7777777777777778, \"#fb9f3a\"], [0.8888888888888888, \"#fdca26\"], [1.0, \"#f0f921\"]], \"type\": \"heatmap\"}], \"heatmapgl\": [{\"colorbar\": {\"outlinewidth\": 0, \"ticks\": \"\"}, \"colorscale\": [[0.0, \"#0d0887\"], [0.1111111111111111, \"#46039f\"], [0.2222222222222222, \"#7201a8\"], [0.3333333333333333, \"#9c179e\"], [0.4444444444444444, \"#bd3786\"], [0.5555555555555556, \"#d8576b\"], [0.6666666666666666, \"#ed7953\"], [0.7777777777777778, \"#fb9f3a\"], [0.8888888888888888, \"#fdca26\"], [1.0, \"#f0f921\"]], \"type\": \"heatmapgl\"}], \"histogram\": [{\"marker\": {\"colorbar\": {\"outlinewidth\": 0, \"ticks\": \"\"}}, \"type\": \"histogram\"}], \"histogram2d\": [{\"colorbar\": {\"outlinewidth\": 0, \"ticks\": \"\"}, \"colorscale\": [[0.0, \"#0d0887\"], [0.1111111111111111, \"#46039f\"], [0.2222222222222222, \"#7201a8\"], [0.3333333333333333, \"#9c179e\"], [0.4444444444444444, \"#bd3786\"], [0.5555555555555556, \"#d8576b\"], [0.6666666666666666, \"#ed7953\"], [0.7777777777777778, \"#fb9f3a\"], [0.8888888888888888, \"#fdca26\"], [1.0, \"#f0f921\"]], \"type\": \"histogram2d\"}], \"histogram2dcontour\": [{\"colorbar\": {\"outlinewidth\": 0, \"ticks\": \"\"}, \"colorscale\": [[0.0, \"#0d0887\"], [0.1111111111111111, \"#46039f\"], [0.2222222222222222, \"#7201a8\"], [0.3333333333333333, \"#9c179e\"], [0.4444444444444444, \"#bd3786\"], [0.5555555555555556, \"#d8576b\"], [0.6666666666666666, \"#ed7953\"], [0.7777777777777778, \"#fb9f3a\"], [0.8888888888888888, \"#fdca26\"], [1.0, \"#f0f921\"]], \"type\": \"histogram2dcontour\"}], \"mesh3d\": [{\"colorbar\": {\"outlinewidth\": 0, \"ticks\": \"\"}, \"type\": \"mesh3d\"}], \"parcoords\": [{\"line\": {\"colorbar\": {\"outlinewidth\": 0, \"ticks\": \"\"}}, \"type\": \"parcoords\"}], \"pie\": [{\"automargin\": true, \"type\": \"pie\"}], \"scatter\": [{\"marker\": {\"colorbar\": {\"outlinewidth\": 0, \"ticks\": \"\"}}, \"type\": \"scatter\"}], \"scatter3d\": [{\"line\": {\"colorbar\": {\"outlinewidth\": 0, \"ticks\": \"\"}}, \"marker\": {\"colorbar\": {\"outlinewidth\": 0, \"ticks\": \"\"}}, \"type\": \"scatter3d\"}], \"scattercarpet\": [{\"marker\": {\"colorbar\": {\"outlinewidth\": 0, \"ticks\": \"\"}}, \"type\": \"scattercarpet\"}], \"scattergeo\": [{\"marker\": {\"colorbar\": {\"outlinewidth\": 0, \"ticks\": \"\"}}, \"type\": \"scattergeo\"}], \"scattergl\": [{\"marker\": {\"colorbar\": {\"outlinewidth\": 0, \"ticks\": \"\"}}, \"type\": \"scattergl\"}], \"scattermapbox\": [{\"marker\": {\"colorbar\": {\"outlinewidth\": 0, \"ticks\": \"\"}}, \"type\": \"scattermapbox\"}], \"scatterpolar\": [{\"marker\": {\"colorbar\": {\"outlinewidth\": 0, \"ticks\": \"\"}}, \"type\": \"scatterpolar\"}], \"scatterpolargl\": [{\"marker\": {\"colorbar\": {\"outlinewidth\": 0, \"ticks\": \"\"}}, \"type\": \"scatterpolargl\"}], \"scatterternary\": [{\"marker\": {\"colorbar\": {\"outlinewidth\": 0, \"ticks\": \"\"}}, \"type\": \"scatterternary\"}], \"surface\": [{\"colorbar\": {\"outlinewidth\": 0, \"ticks\": \"\"}, \"colorscale\": [[0.0, \"#0d0887\"], [0.1111111111111111, \"#46039f\"], [0.2222222222222222, \"#7201a8\"], [0.3333333333333333, \"#9c179e\"], [0.4444444444444444, \"#bd3786\"], [0.5555555555555556, \"#d8576b\"], [0.6666666666666666, \"#ed7953\"], [0.7777777777777778, \"#fb9f3a\"], [0.8888888888888888, \"#fdca26\"], [1.0, \"#f0f921\"]], \"type\": \"surface\"}], \"table\": [{\"cells\": {\"fill\": {\"color\": \"#EBF0F8\"}, \"line\": {\"color\": \"white\"}}, \"header\": {\"fill\": {\"color\": \"#C8D4E3\"}, \"line\": {\"color\": \"white\"}}, \"type\": \"table\"}]}, \"layout\": {\"annotationdefaults\": {\"arrowcolor\": \"#2a3f5f\", \"arrowhead\": 0, \"arrowwidth\": 1}, \"coloraxis\": {\"colorbar\": {\"outlinewidth\": 0, \"ticks\": \"\"}}, \"colorscale\": {\"diverging\": [[0, \"#8e0152\"], [0.1, \"#c51b7d\"], [0.2, \"#de77ae\"], [0.3, \"#f1b6da\"], [0.4, \"#fde0ef\"], [0.5, \"#f7f7f7\"], [0.6, \"#e6f5d0\"], [0.7, \"#b8e186\"], [0.8, \"#7fbc41\"], [0.9, \"#4d9221\"], [1, \"#276419\"]], \"sequential\": [[0.0, \"#0d0887\"], [0.1111111111111111, \"#46039f\"], [0.2222222222222222, \"#7201a8\"], [0.3333333333333333, \"#9c179e\"], [0.4444444444444444, \"#bd3786\"], [0.5555555555555556, \"#d8576b\"], [0.6666666666666666, \"#ed7953\"], [0.7777777777777778, \"#fb9f3a\"], [0.8888888888888888, \"#fdca26\"], [1.0, \"#f0f921\"]], \"sequentialminus\": [[0.0, \"#0d0887\"], [0.1111111111111111, \"#46039f\"], [0.2222222222222222, \"#7201a8\"], [0.3333333333333333, \"#9c179e\"], [0.4444444444444444, \"#bd3786\"], [0.5555555555555556, \"#d8576b\"], [0.6666666666666666, \"#ed7953\"], [0.7777777777777778, \"#fb9f3a\"], [0.8888888888888888, \"#fdca26\"], [1.0, \"#f0f921\"]]}, \"colorway\": [\"#636efa\", \"#EF553B\", \"#00cc96\", \"#ab63fa\", \"#FFA15A\", \"#19d3f3\", \"#FF6692\", \"#B6E880\", \"#FF97FF\", \"#FECB52\"], \"font\": {\"color\": \"#2a3f5f\"}, \"geo\": {\"bgcolor\": \"white\", \"lakecolor\": \"white\", \"landcolor\": \"#E5ECF6\", \"showlakes\": true, \"showland\": true, \"subunitcolor\": \"white\"}, \"hoverlabel\": {\"align\": \"left\"}, \"hovermode\": \"closest\", \"mapbox\": {\"style\": \"light\"}, \"paper_bgcolor\": \"white\", \"plot_bgcolor\": \"#E5ECF6\", \"polar\": {\"angularaxis\": {\"gridcolor\": \"white\", \"linecolor\": \"white\", \"ticks\": \"\"}, \"bgcolor\": \"#E5ECF6\", \"radialaxis\": {\"gridcolor\": \"white\", \"linecolor\": \"white\", \"ticks\": \"\"}}, \"scene\": {\"xaxis\": {\"backgroundcolor\": \"#E5ECF6\", \"gridcolor\": \"white\", \"gridwidth\": 2, \"linecolor\": \"white\", \"showbackground\": true, \"ticks\": \"\", \"zerolinecolor\": \"white\"}, \"yaxis\": {\"backgroundcolor\": \"#E5ECF6\", \"gridcolor\": \"white\", \"gridwidth\": 2, \"linecolor\": \"white\", \"showbackground\": true, \"ticks\": \"\", \"zerolinecolor\": \"white\"}, \"zaxis\": {\"backgroundcolor\": \"#E5ECF6\", \"gridcolor\": \"white\", \"gridwidth\": 2, \"linecolor\": \"white\", \"showbackground\": true, \"ticks\": \"\", \"zerolinecolor\": \"white\"}}, \"shapedefaults\": {\"line\": {\"color\": \"#2a3f5f\"}}, \"ternary\": {\"aaxis\": {\"gridcolor\": \"white\", \"linecolor\": \"white\", \"ticks\": \"\"}, \"baxis\": {\"gridcolor\": \"white\", \"linecolor\": \"white\", \"ticks\": \"\"}, \"bgcolor\": \"#E5ECF6\", \"caxis\": {\"gridcolor\": \"white\", \"linecolor\": \"white\", \"ticks\": \"\"}}, \"title\": {\"x\": 0.05}, \"xaxis\": {\"automargin\": true, \"gridcolor\": \"white\", \"linecolor\": \"white\", \"ticks\": \"\", \"title\": {\"standoff\": 15}, \"zerolinecolor\": \"white\", \"zerolinewidth\": 2}, \"yaxis\": {\"automargin\": true, \"gridcolor\": \"white\", \"linecolor\": \"white\", \"ticks\": \"\", \"title\": {\"standoff\": 15}, \"zerolinecolor\": \"white\", \"zerolinewidth\": 2}}}, \"xaxis\": {\"anchor\": \"y\", \"domain\": [0.0, 1.0], \"title\": {\"text\": \"date\"}}, \"yaxis\": {\"anchor\": \"x\", \"domain\": [0.0, 1.0], \"title\": {\"text\": \"new_cases\"}}},                        {\"responsive\": true}                    ).then(function(){\n",
       "                            \n",
       "var gd = document.getElementById('62547cd2-b1b6-4365-ad67-5f91cae0e4f3');\n",
       "var x = new MutationObserver(function (mutations, observer) {{\n",
       "        var display = window.getComputedStyle(gd).display;\n",
       "        if (!display || display === 'none') {{\n",
       "            console.log([gd, 'removed!']);\n",
       "            Plotly.purge(gd);\n",
       "            observer.disconnect();\n",
       "        }}\n",
       "}});\n",
       "\n",
       "// Listen for the removal of the full notebook cells\n",
       "var notebookContainer = gd.closest('#notebook-container');\n",
       "if (notebookContainer) {{\n",
       "    x.observe(notebookContainer, {childList: true});\n",
       "}}\n",
       "\n",
       "// Listen for the clearing of the current output cell\n",
       "var outputEl = gd.closest('.output');\n",
       "if (outputEl) {{\n",
       "    x.observe(outputEl, {childList: true});\n",
       "}}\n",
       "\n",
       "                        })                };                });            </script>        </div>"
      ]
     },
     "metadata": {},
     "output_type": "display_data"
    }
   ],
   "source": [
    "# generating a bar plot\n",
    "data.plot.bar(x='date',y='new_cases', color='location')"
   ]
  },
  {
   "cell_type": "code",
   "execution_count": 37,
   "metadata": {},
   "outputs": [
    {
     "data": {
      "application/vnd.plotly.v1+json": {
       "config": {
        "plotlyServerURL": "https://plot.ly"
       },
       "data": [
        {
         "alignmentgroup": "True",
         "hovertemplate": "variable=new_cases<br>location=%{x}<br>value=%{y}<extra></extra>",
         "legendgroup": "new_cases",
         "marker": {
          "color": "#636efa"
         },
         "name": "new_cases",
         "offsetgroup": "new_cases",
         "orientation": "v",
         "showlegend": true,
         "textposition": "auto",
         "type": "bar",
         "x": [
          "United States",
          "Brazil",
          "India"
         ],
         "xaxis": "x",
         "y": [
          447461,
          126911,
          62538
         ],
         "yaxis": "y"
        }
       ],
       "layout": {
        "barmode": "relative",
        "legend": {
         "title": {
          "text": "variable"
         },
         "tracegroupgap": 0
        },
        "margin": {
         "t": 60
        },
        "template": {
         "data": {
          "bar": [
           {
            "error_x": {
             "color": "#2a3f5f"
            },
            "error_y": {
             "color": "#2a3f5f"
            },
            "marker": {
             "line": {
              "color": "#E5ECF6",
              "width": 0.5
             }
            },
            "type": "bar"
           }
          ],
          "barpolar": [
           {
            "marker": {
             "line": {
              "color": "#E5ECF6",
              "width": 0.5
             }
            },
            "type": "barpolar"
           }
          ],
          "carpet": [
           {
            "aaxis": {
             "endlinecolor": "#2a3f5f",
             "gridcolor": "white",
             "linecolor": "white",
             "minorgridcolor": "white",
             "startlinecolor": "#2a3f5f"
            },
            "baxis": {
             "endlinecolor": "#2a3f5f",
             "gridcolor": "white",
             "linecolor": "white",
             "minorgridcolor": "white",
             "startlinecolor": "#2a3f5f"
            },
            "type": "carpet"
           }
          ],
          "choropleth": [
           {
            "colorbar": {
             "outlinewidth": 0,
             "ticks": ""
            },
            "type": "choropleth"
           }
          ],
          "contour": [
           {
            "colorbar": {
             "outlinewidth": 0,
             "ticks": ""
            },
            "colorscale": [
             [
              0,
              "#0d0887"
             ],
             [
              0.1111111111111111,
              "#46039f"
             ],
             [
              0.2222222222222222,
              "#7201a8"
             ],
             [
              0.3333333333333333,
              "#9c179e"
             ],
             [
              0.4444444444444444,
              "#bd3786"
             ],
             [
              0.5555555555555556,
              "#d8576b"
             ],
             [
              0.6666666666666666,
              "#ed7953"
             ],
             [
              0.7777777777777778,
              "#fb9f3a"
             ],
             [
              0.8888888888888888,
              "#fdca26"
             ],
             [
              1,
              "#f0f921"
             ]
            ],
            "type": "contour"
           }
          ],
          "contourcarpet": [
           {
            "colorbar": {
             "outlinewidth": 0,
             "ticks": ""
            },
            "type": "contourcarpet"
           }
          ],
          "heatmap": [
           {
            "colorbar": {
             "outlinewidth": 0,
             "ticks": ""
            },
            "colorscale": [
             [
              0,
              "#0d0887"
             ],
             [
              0.1111111111111111,
              "#46039f"
             ],
             [
              0.2222222222222222,
              "#7201a8"
             ],
             [
              0.3333333333333333,
              "#9c179e"
             ],
             [
              0.4444444444444444,
              "#bd3786"
             ],
             [
              0.5555555555555556,
              "#d8576b"
             ],
             [
              0.6666666666666666,
              "#ed7953"
             ],
             [
              0.7777777777777778,
              "#fb9f3a"
             ],
             [
              0.8888888888888888,
              "#fdca26"
             ],
             [
              1,
              "#f0f921"
             ]
            ],
            "type": "heatmap"
           }
          ],
          "heatmapgl": [
           {
            "colorbar": {
             "outlinewidth": 0,
             "ticks": ""
            },
            "colorscale": [
             [
              0,
              "#0d0887"
             ],
             [
              0.1111111111111111,
              "#46039f"
             ],
             [
              0.2222222222222222,
              "#7201a8"
             ],
             [
              0.3333333333333333,
              "#9c179e"
             ],
             [
              0.4444444444444444,
              "#bd3786"
             ],
             [
              0.5555555555555556,
              "#d8576b"
             ],
             [
              0.6666666666666666,
              "#ed7953"
             ],
             [
              0.7777777777777778,
              "#fb9f3a"
             ],
             [
              0.8888888888888888,
              "#fdca26"
             ],
             [
              1,
              "#f0f921"
             ]
            ],
            "type": "heatmapgl"
           }
          ],
          "histogram": [
           {
            "marker": {
             "colorbar": {
              "outlinewidth": 0,
              "ticks": ""
             }
            },
            "type": "histogram"
           }
          ],
          "histogram2d": [
           {
            "colorbar": {
             "outlinewidth": 0,
             "ticks": ""
            },
            "colorscale": [
             [
              0,
              "#0d0887"
             ],
             [
              0.1111111111111111,
              "#46039f"
             ],
             [
              0.2222222222222222,
              "#7201a8"
             ],
             [
              0.3333333333333333,
              "#9c179e"
             ],
             [
              0.4444444444444444,
              "#bd3786"
             ],
             [
              0.5555555555555556,
              "#d8576b"
             ],
             [
              0.6666666666666666,
              "#ed7953"
             ],
             [
              0.7777777777777778,
              "#fb9f3a"
             ],
             [
              0.8888888888888888,
              "#fdca26"
             ],
             [
              1,
              "#f0f921"
             ]
            ],
            "type": "histogram2d"
           }
          ],
          "histogram2dcontour": [
           {
            "colorbar": {
             "outlinewidth": 0,
             "ticks": ""
            },
            "colorscale": [
             [
              0,
              "#0d0887"
             ],
             [
              0.1111111111111111,
              "#46039f"
             ],
             [
              0.2222222222222222,
              "#7201a8"
             ],
             [
              0.3333333333333333,
              "#9c179e"
             ],
             [
              0.4444444444444444,
              "#bd3786"
             ],
             [
              0.5555555555555556,
              "#d8576b"
             ],
             [
              0.6666666666666666,
              "#ed7953"
             ],
             [
              0.7777777777777778,
              "#fb9f3a"
             ],
             [
              0.8888888888888888,
              "#fdca26"
             ],
             [
              1,
              "#f0f921"
             ]
            ],
            "type": "histogram2dcontour"
           }
          ],
          "mesh3d": [
           {
            "colorbar": {
             "outlinewidth": 0,
             "ticks": ""
            },
            "type": "mesh3d"
           }
          ],
          "parcoords": [
           {
            "line": {
             "colorbar": {
              "outlinewidth": 0,
              "ticks": ""
             }
            },
            "type": "parcoords"
           }
          ],
          "pie": [
           {
            "automargin": true,
            "type": "pie"
           }
          ],
          "scatter": [
           {
            "marker": {
             "colorbar": {
              "outlinewidth": 0,
              "ticks": ""
             }
            },
            "type": "scatter"
           }
          ],
          "scatter3d": [
           {
            "line": {
             "colorbar": {
              "outlinewidth": 0,
              "ticks": ""
             }
            },
            "marker": {
             "colorbar": {
              "outlinewidth": 0,
              "ticks": ""
             }
            },
            "type": "scatter3d"
           }
          ],
          "scattercarpet": [
           {
            "marker": {
             "colorbar": {
              "outlinewidth": 0,
              "ticks": ""
             }
            },
            "type": "scattercarpet"
           }
          ],
          "scattergeo": [
           {
            "marker": {
             "colorbar": {
              "outlinewidth": 0,
              "ticks": ""
             }
            },
            "type": "scattergeo"
           }
          ],
          "scattergl": [
           {
            "marker": {
             "colorbar": {
              "outlinewidth": 0,
              "ticks": ""
             }
            },
            "type": "scattergl"
           }
          ],
          "scattermapbox": [
           {
            "marker": {
             "colorbar": {
              "outlinewidth": 0,
              "ticks": ""
             }
            },
            "type": "scattermapbox"
           }
          ],
          "scatterpolar": [
           {
            "marker": {
             "colorbar": {
              "outlinewidth": 0,
              "ticks": ""
             }
            },
            "type": "scatterpolar"
           }
          ],
          "scatterpolargl": [
           {
            "marker": {
             "colorbar": {
              "outlinewidth": 0,
              "ticks": ""
             }
            },
            "type": "scatterpolargl"
           }
          ],
          "scatterternary": [
           {
            "marker": {
             "colorbar": {
              "outlinewidth": 0,
              "ticks": ""
             }
            },
            "type": "scatterternary"
           }
          ],
          "surface": [
           {
            "colorbar": {
             "outlinewidth": 0,
             "ticks": ""
            },
            "colorscale": [
             [
              0,
              "#0d0887"
             ],
             [
              0.1111111111111111,
              "#46039f"
             ],
             [
              0.2222222222222222,
              "#7201a8"
             ],
             [
              0.3333333333333333,
              "#9c179e"
             ],
             [
              0.4444444444444444,
              "#bd3786"
             ],
             [
              0.5555555555555556,
              "#d8576b"
             ],
             [
              0.6666666666666666,
              "#ed7953"
             ],
             [
              0.7777777777777778,
              "#fb9f3a"
             ],
             [
              0.8888888888888888,
              "#fdca26"
             ],
             [
              1,
              "#f0f921"
             ]
            ],
            "type": "surface"
           }
          ],
          "table": [
           {
            "cells": {
             "fill": {
              "color": "#EBF0F8"
             },
             "line": {
              "color": "white"
             }
            },
            "header": {
             "fill": {
              "color": "#C8D4E3"
             },
             "line": {
              "color": "white"
             }
            },
            "type": "table"
           }
          ]
         },
         "layout": {
          "annotationdefaults": {
           "arrowcolor": "#2a3f5f",
           "arrowhead": 0,
           "arrowwidth": 1
          },
          "coloraxis": {
           "colorbar": {
            "outlinewidth": 0,
            "ticks": ""
           }
          },
          "colorscale": {
           "diverging": [
            [
             0,
             "#8e0152"
            ],
            [
             0.1,
             "#c51b7d"
            ],
            [
             0.2,
             "#de77ae"
            ],
            [
             0.3,
             "#f1b6da"
            ],
            [
             0.4,
             "#fde0ef"
            ],
            [
             0.5,
             "#f7f7f7"
            ],
            [
             0.6,
             "#e6f5d0"
            ],
            [
             0.7,
             "#b8e186"
            ],
            [
             0.8,
             "#7fbc41"
            ],
            [
             0.9,
             "#4d9221"
            ],
            [
             1,
             "#276419"
            ]
           ],
           "sequential": [
            [
             0,
             "#0d0887"
            ],
            [
             0.1111111111111111,
             "#46039f"
            ],
            [
             0.2222222222222222,
             "#7201a8"
            ],
            [
             0.3333333333333333,
             "#9c179e"
            ],
            [
             0.4444444444444444,
             "#bd3786"
            ],
            [
             0.5555555555555556,
             "#d8576b"
            ],
            [
             0.6666666666666666,
             "#ed7953"
            ],
            [
             0.7777777777777778,
             "#fb9f3a"
            ],
            [
             0.8888888888888888,
             "#fdca26"
            ],
            [
             1,
             "#f0f921"
            ]
           ],
           "sequentialminus": [
            [
             0,
             "#0d0887"
            ],
            [
             0.1111111111111111,
             "#46039f"
            ],
            [
             0.2222222222222222,
             "#7201a8"
            ],
            [
             0.3333333333333333,
             "#9c179e"
            ],
            [
             0.4444444444444444,
             "#bd3786"
            ],
            [
             0.5555555555555556,
             "#d8576b"
            ],
            [
             0.6666666666666666,
             "#ed7953"
            ],
            [
             0.7777777777777778,
             "#fb9f3a"
            ],
            [
             0.8888888888888888,
             "#fdca26"
            ],
            [
             1,
             "#f0f921"
            ]
           ]
          },
          "colorway": [
           "#636efa",
           "#EF553B",
           "#00cc96",
           "#ab63fa",
           "#FFA15A",
           "#19d3f3",
           "#FF6692",
           "#B6E880",
           "#FF97FF",
           "#FECB52"
          ],
          "font": {
           "color": "#2a3f5f"
          },
          "geo": {
           "bgcolor": "white",
           "lakecolor": "white",
           "landcolor": "#E5ECF6",
           "showlakes": true,
           "showland": true,
           "subunitcolor": "white"
          },
          "hoverlabel": {
           "align": "left"
          },
          "hovermode": "closest",
          "mapbox": {
           "style": "light"
          },
          "paper_bgcolor": "white",
          "plot_bgcolor": "#E5ECF6",
          "polar": {
           "angularaxis": {
            "gridcolor": "white",
            "linecolor": "white",
            "ticks": ""
           },
           "bgcolor": "#E5ECF6",
           "radialaxis": {
            "gridcolor": "white",
            "linecolor": "white",
            "ticks": ""
           }
          },
          "scene": {
           "xaxis": {
            "backgroundcolor": "#E5ECF6",
            "gridcolor": "white",
            "gridwidth": 2,
            "linecolor": "white",
            "showbackground": true,
            "ticks": "",
            "zerolinecolor": "white"
           },
           "yaxis": {
            "backgroundcolor": "#E5ECF6",
            "gridcolor": "white",
            "gridwidth": 2,
            "linecolor": "white",
            "showbackground": true,
            "ticks": "",
            "zerolinecolor": "white"
           },
           "zaxis": {
            "backgroundcolor": "#E5ECF6",
            "gridcolor": "white",
            "gridwidth": 2,
            "linecolor": "white",
            "showbackground": true,
            "ticks": "",
            "zerolinecolor": "white"
           }
          },
          "shapedefaults": {
           "line": {
            "color": "#2a3f5f"
           }
          },
          "ternary": {
           "aaxis": {
            "gridcolor": "white",
            "linecolor": "white",
            "ticks": ""
           },
           "baxis": {
            "gridcolor": "white",
            "linecolor": "white",
            "ticks": ""
           },
           "bgcolor": "#E5ECF6",
           "caxis": {
            "gridcolor": "white",
            "linecolor": "white",
            "ticks": ""
           }
          },
          "title": {
           "x": 0.05
          },
          "xaxis": {
           "automargin": true,
           "gridcolor": "white",
           "linecolor": "white",
           "ticks": "",
           "title": {
            "standoff": 15
           },
           "zerolinecolor": "white",
           "zerolinewidth": 2
          },
          "yaxis": {
           "automargin": true,
           "gridcolor": "white",
           "linecolor": "white",
           "ticks": "",
           "title": {
            "standoff": 15
           },
           "zerolinecolor": "white",
           "zerolinewidth": 2
          }
         }
        },
        "xaxis": {
         "anchor": "y",
         "domain": [
          0,
          1
         ],
         "title": {
          "text": "location"
         }
        },
        "yaxis": {
         "anchor": "x",
         "domain": [
          0,
          1
         ],
         "title": {
          "text": "value"
         }
        }
       }
      },
      "text/html": [
       "<div>                            <div id=\"efb79209-c46f-4c8b-b432-c2eed3d12abd\" class=\"plotly-graph-div\" style=\"height:525px; width:100%;\"></div>            <script type=\"text/javascript\">                require([\"plotly\"], function(Plotly) {                    window.PLOTLYENV=window.PLOTLYENV || {};                                    if (document.getElementById(\"efb79209-c46f-4c8b-b432-c2eed3d12abd\")) {                    Plotly.newPlot(                        \"efb79209-c46f-4c8b-b432-c2eed3d12abd\",                        [{\"alignmentgroup\": \"True\", \"hovertemplate\": \"variable=new_cases<br>location=%{x}<br>value=%{y}<extra></extra>\", \"legendgroup\": \"new_cases\", \"marker\": {\"color\": \"#636efa\"}, \"name\": \"new_cases\", \"offsetgroup\": \"new_cases\", \"orientation\": \"v\", \"showlegend\": true, \"textposition\": \"auto\", \"type\": \"bar\", \"x\": [\"United States\", \"Brazil\", \"India\"], \"xaxis\": \"x\", \"y\": [447461, 126911, 62538], \"yaxis\": \"y\"}],                        {\"barmode\": \"relative\", \"legend\": {\"title\": {\"text\": \"variable\"}, \"tracegroupgap\": 0}, \"margin\": {\"t\": 60}, \"template\": {\"data\": {\"bar\": [{\"error_x\": {\"color\": \"#2a3f5f\"}, \"error_y\": {\"color\": \"#2a3f5f\"}, \"marker\": {\"line\": {\"color\": \"#E5ECF6\", \"width\": 0.5}}, \"type\": \"bar\"}], \"barpolar\": [{\"marker\": {\"line\": {\"color\": \"#E5ECF6\", \"width\": 0.5}}, \"type\": \"barpolar\"}], \"carpet\": [{\"aaxis\": {\"endlinecolor\": \"#2a3f5f\", \"gridcolor\": \"white\", \"linecolor\": \"white\", \"minorgridcolor\": \"white\", \"startlinecolor\": \"#2a3f5f\"}, \"baxis\": {\"endlinecolor\": \"#2a3f5f\", \"gridcolor\": \"white\", \"linecolor\": \"white\", \"minorgridcolor\": \"white\", \"startlinecolor\": \"#2a3f5f\"}, \"type\": \"carpet\"}], \"choropleth\": [{\"colorbar\": {\"outlinewidth\": 0, \"ticks\": \"\"}, \"type\": \"choropleth\"}], \"contour\": [{\"colorbar\": {\"outlinewidth\": 0, \"ticks\": \"\"}, \"colorscale\": [[0.0, \"#0d0887\"], [0.1111111111111111, \"#46039f\"], [0.2222222222222222, \"#7201a8\"], [0.3333333333333333, \"#9c179e\"], [0.4444444444444444, \"#bd3786\"], [0.5555555555555556, \"#d8576b\"], [0.6666666666666666, \"#ed7953\"], [0.7777777777777778, \"#fb9f3a\"], [0.8888888888888888, \"#fdca26\"], [1.0, \"#f0f921\"]], \"type\": \"contour\"}], \"contourcarpet\": [{\"colorbar\": {\"outlinewidth\": 0, \"ticks\": \"\"}, \"type\": \"contourcarpet\"}], \"heatmap\": [{\"colorbar\": {\"outlinewidth\": 0, \"ticks\": \"\"}, \"colorscale\": [[0.0, \"#0d0887\"], [0.1111111111111111, \"#46039f\"], [0.2222222222222222, \"#7201a8\"], [0.3333333333333333, \"#9c179e\"], [0.4444444444444444, \"#bd3786\"], [0.5555555555555556, \"#d8576b\"], [0.6666666666666666, \"#ed7953\"], [0.7777777777777778, \"#fb9f3a\"], [0.8888888888888888, \"#fdca26\"], [1.0, \"#f0f921\"]], \"type\": \"heatmap\"}], \"heatmapgl\": [{\"colorbar\": {\"outlinewidth\": 0, \"ticks\": \"\"}, \"colorscale\": [[0.0, \"#0d0887\"], [0.1111111111111111, \"#46039f\"], [0.2222222222222222, \"#7201a8\"], [0.3333333333333333, \"#9c179e\"], [0.4444444444444444, \"#bd3786\"], [0.5555555555555556, \"#d8576b\"], [0.6666666666666666, \"#ed7953\"], [0.7777777777777778, \"#fb9f3a\"], [0.8888888888888888, \"#fdca26\"], [1.0, \"#f0f921\"]], \"type\": \"heatmapgl\"}], \"histogram\": [{\"marker\": {\"colorbar\": {\"outlinewidth\": 0, \"ticks\": \"\"}}, \"type\": \"histogram\"}], \"histogram2d\": [{\"colorbar\": {\"outlinewidth\": 0, \"ticks\": \"\"}, \"colorscale\": [[0.0, \"#0d0887\"], [0.1111111111111111, \"#46039f\"], [0.2222222222222222, \"#7201a8\"], [0.3333333333333333, \"#9c179e\"], [0.4444444444444444, \"#bd3786\"], [0.5555555555555556, \"#d8576b\"], [0.6666666666666666, \"#ed7953\"], [0.7777777777777778, \"#fb9f3a\"], [0.8888888888888888, \"#fdca26\"], [1.0, \"#f0f921\"]], \"type\": \"histogram2d\"}], \"histogram2dcontour\": [{\"colorbar\": {\"outlinewidth\": 0, \"ticks\": \"\"}, \"colorscale\": [[0.0, \"#0d0887\"], [0.1111111111111111, \"#46039f\"], [0.2222222222222222, \"#7201a8\"], [0.3333333333333333, \"#9c179e\"], [0.4444444444444444, \"#bd3786\"], [0.5555555555555556, \"#d8576b\"], [0.6666666666666666, \"#ed7953\"], [0.7777777777777778, \"#fb9f3a\"], [0.8888888888888888, \"#fdca26\"], [1.0, \"#f0f921\"]], \"type\": \"histogram2dcontour\"}], \"mesh3d\": [{\"colorbar\": {\"outlinewidth\": 0, \"ticks\": \"\"}, \"type\": \"mesh3d\"}], \"parcoords\": [{\"line\": {\"colorbar\": {\"outlinewidth\": 0, \"ticks\": \"\"}}, \"type\": \"parcoords\"}], \"pie\": [{\"automargin\": true, \"type\": \"pie\"}], \"scatter\": [{\"marker\": {\"colorbar\": {\"outlinewidth\": 0, \"ticks\": \"\"}}, \"type\": \"scatter\"}], \"scatter3d\": [{\"line\": {\"colorbar\": {\"outlinewidth\": 0, \"ticks\": \"\"}}, \"marker\": {\"colorbar\": {\"outlinewidth\": 0, \"ticks\": \"\"}}, \"type\": \"scatter3d\"}], \"scattercarpet\": [{\"marker\": {\"colorbar\": {\"outlinewidth\": 0, \"ticks\": \"\"}}, \"type\": \"scattercarpet\"}], \"scattergeo\": [{\"marker\": {\"colorbar\": {\"outlinewidth\": 0, \"ticks\": \"\"}}, \"type\": \"scattergeo\"}], \"scattergl\": [{\"marker\": {\"colorbar\": {\"outlinewidth\": 0, \"ticks\": \"\"}}, \"type\": \"scattergl\"}], \"scattermapbox\": [{\"marker\": {\"colorbar\": {\"outlinewidth\": 0, \"ticks\": \"\"}}, \"type\": \"scattermapbox\"}], \"scatterpolar\": [{\"marker\": {\"colorbar\": {\"outlinewidth\": 0, \"ticks\": \"\"}}, \"type\": \"scatterpolar\"}], \"scatterpolargl\": [{\"marker\": {\"colorbar\": {\"outlinewidth\": 0, \"ticks\": \"\"}}, \"type\": \"scatterpolargl\"}], \"scatterternary\": [{\"marker\": {\"colorbar\": {\"outlinewidth\": 0, \"ticks\": \"\"}}, \"type\": \"scatterternary\"}], \"surface\": [{\"colorbar\": {\"outlinewidth\": 0, \"ticks\": \"\"}, \"colorscale\": [[0.0, \"#0d0887\"], [0.1111111111111111, \"#46039f\"], [0.2222222222222222, \"#7201a8\"], [0.3333333333333333, \"#9c179e\"], [0.4444444444444444, \"#bd3786\"], [0.5555555555555556, \"#d8576b\"], [0.6666666666666666, \"#ed7953\"], [0.7777777777777778, \"#fb9f3a\"], [0.8888888888888888, \"#fdca26\"], [1.0, \"#f0f921\"]], \"type\": \"surface\"}], \"table\": [{\"cells\": {\"fill\": {\"color\": \"#EBF0F8\"}, \"line\": {\"color\": \"white\"}}, \"header\": {\"fill\": {\"color\": \"#C8D4E3\"}, \"line\": {\"color\": \"white\"}}, \"type\": \"table\"}]}, \"layout\": {\"annotationdefaults\": {\"arrowcolor\": \"#2a3f5f\", \"arrowhead\": 0, \"arrowwidth\": 1}, \"coloraxis\": {\"colorbar\": {\"outlinewidth\": 0, \"ticks\": \"\"}}, \"colorscale\": {\"diverging\": [[0, \"#8e0152\"], [0.1, \"#c51b7d\"], [0.2, \"#de77ae\"], [0.3, \"#f1b6da\"], [0.4, \"#fde0ef\"], [0.5, \"#f7f7f7\"], [0.6, \"#e6f5d0\"], [0.7, \"#b8e186\"], [0.8, \"#7fbc41\"], [0.9, \"#4d9221\"], [1, \"#276419\"]], \"sequential\": [[0.0, \"#0d0887\"], [0.1111111111111111, \"#46039f\"], [0.2222222222222222, \"#7201a8\"], [0.3333333333333333, \"#9c179e\"], [0.4444444444444444, \"#bd3786\"], [0.5555555555555556, \"#d8576b\"], [0.6666666666666666, \"#ed7953\"], [0.7777777777777778, \"#fb9f3a\"], [0.8888888888888888, \"#fdca26\"], [1.0, \"#f0f921\"]], \"sequentialminus\": [[0.0, \"#0d0887\"], [0.1111111111111111, \"#46039f\"], [0.2222222222222222, \"#7201a8\"], [0.3333333333333333, \"#9c179e\"], [0.4444444444444444, \"#bd3786\"], [0.5555555555555556, \"#d8576b\"], [0.6666666666666666, \"#ed7953\"], [0.7777777777777778, \"#fb9f3a\"], [0.8888888888888888, \"#fdca26\"], [1.0, \"#f0f921\"]]}, \"colorway\": [\"#636efa\", \"#EF553B\", \"#00cc96\", \"#ab63fa\", \"#FFA15A\", \"#19d3f3\", \"#FF6692\", \"#B6E880\", \"#FF97FF\", \"#FECB52\"], \"font\": {\"color\": \"#2a3f5f\"}, \"geo\": {\"bgcolor\": \"white\", \"lakecolor\": \"white\", \"landcolor\": \"#E5ECF6\", \"showlakes\": true, \"showland\": true, \"subunitcolor\": \"white\"}, \"hoverlabel\": {\"align\": \"left\"}, \"hovermode\": \"closest\", \"mapbox\": {\"style\": \"light\"}, \"paper_bgcolor\": \"white\", \"plot_bgcolor\": \"#E5ECF6\", \"polar\": {\"angularaxis\": {\"gridcolor\": \"white\", \"linecolor\": \"white\", \"ticks\": \"\"}, \"bgcolor\": \"#E5ECF6\", \"radialaxis\": {\"gridcolor\": \"white\", \"linecolor\": \"white\", \"ticks\": \"\"}}, \"scene\": {\"xaxis\": {\"backgroundcolor\": \"#E5ECF6\", \"gridcolor\": \"white\", \"gridwidth\": 2, \"linecolor\": \"white\", \"showbackground\": true, \"ticks\": \"\", \"zerolinecolor\": \"white\"}, \"yaxis\": {\"backgroundcolor\": \"#E5ECF6\", \"gridcolor\": \"white\", \"gridwidth\": 2, \"linecolor\": \"white\", \"showbackground\": true, \"ticks\": \"\", \"zerolinecolor\": \"white\"}, \"zaxis\": {\"backgroundcolor\": \"#E5ECF6\", \"gridcolor\": \"white\", \"gridwidth\": 2, \"linecolor\": \"white\", \"showbackground\": true, \"ticks\": \"\", \"zerolinecolor\": \"white\"}}, \"shapedefaults\": {\"line\": {\"color\": \"#2a3f5f\"}}, \"ternary\": {\"aaxis\": {\"gridcolor\": \"white\", \"linecolor\": \"white\", \"ticks\": \"\"}, \"baxis\": {\"gridcolor\": \"white\", \"linecolor\": \"white\", \"ticks\": \"\"}, \"bgcolor\": \"#E5ECF6\", \"caxis\": {\"gridcolor\": \"white\", \"linecolor\": \"white\", \"ticks\": \"\"}}, \"title\": {\"x\": 0.05}, \"xaxis\": {\"automargin\": true, \"gridcolor\": \"white\", \"linecolor\": \"white\", \"ticks\": \"\", \"title\": {\"standoff\": 15}, \"zerolinecolor\": \"white\", \"zerolinewidth\": 2}, \"yaxis\": {\"automargin\": true, \"gridcolor\": \"white\", \"linecolor\": \"white\", \"ticks\": \"\", \"title\": {\"standoff\": 15}, \"zerolinecolor\": \"white\", \"zerolinewidth\": 2}}}, \"xaxis\": {\"anchor\": \"y\", \"domain\": [0.0, 1.0], \"title\": {\"text\": \"location\"}}, \"yaxis\": {\"anchor\": \"x\", \"domain\": [0.0, 1.0], \"title\": {\"text\": \"value\"}}},                        {\"responsive\": true}                    ).then(function(){\n",
       "                            \n",
       "var gd = document.getElementById('efb79209-c46f-4c8b-b432-c2eed3d12abd');\n",
       "var x = new MutationObserver(function (mutations, observer) {{\n",
       "        var display = window.getComputedStyle(gd).display;\n",
       "        if (!display || display === 'none') {{\n",
       "            console.log([gd, 'removed!']);\n",
       "            Plotly.purge(gd);\n",
       "            observer.disconnect();\n",
       "        }}\n",
       "}});\n",
       "\n",
       "// Listen for the removal of the full notebook cells\n",
       "var notebookContainer = gd.closest('#notebook-container');\n",
       "if (notebookContainer) {{\n",
       "    x.observe(notebookContainer, {childList: true});\n",
       "}}\n",
       "\n",
       "// Listen for the clearing of the current output cell\n",
       "var outputEl = gd.closest('.output');\n",
       "if (outputEl) {{\n",
       "    x.observe(outputEl, {childList: true});\n",
       "}}\n",
       "\n",
       "                        })                };                });            </script>        </div>"
      ]
     },
     "metadata": {},
     "output_type": "display_data"
    }
   ],
   "source": [
    "# Step 1: generating a new dataset based on each location i.e. country\n",
    "# Step 2: doing the sum on new_cases followed by sorting\n",
    "# Step 3: Selecting top 10 countries from the dataset\n",
    "data.groupby(['location']).new_cases.sum().sort_values(ascending=False).head(10).plot.bar()"
   ]
  },
  {
   "cell_type": "code",
   "execution_count": 38,
   "metadata": {},
   "outputs": [
    {
     "data": {
      "text/html": [
       "<style  type=\"text/css\" >\n",
       "</style><table id=\"T_beb83c54_2f14_11eb_bc9c_d03745710dda\" ><thead>    <tr>        <th class=\"col_heading level0 col0\" >iso_code</th>        <th class=\"col_heading level0 col1\" >continent</th>        <th class=\"col_heading level0 col2\" >location</th>        <th class=\"col_heading level0 col3\" >date</th>        <th class=\"col_heading level0 col4\" >new_cases</th>        <th class=\"col_heading level0 col5\" >new_deaths</th>        <th class=\"col_heading level0 col6\" >new_tests</th>    </tr></thead><tbody>\n",
       "                <tr>\n",
       "                                <td id=\"T_beb83c54_2f14_11eb_bc9c_d03745710ddarow0_col0\" class=\"data row0 col0\" >USA</td>\n",
       "                        <td id=\"T_beb83c54_2f14_11eb_bc9c_d03745710ddarow0_col1\" class=\"data row0 col1\" >North America</td>\n",
       "                        <td id=\"T_beb83c54_2f14_11eb_bc9c_d03745710ddarow0_col2\" class=\"data row0 col2\" >United States</td>\n",
       "                        <td id=\"T_beb83c54_2f14_11eb_bc9c_d03745710ddarow0_col3\" class=\"data row0 col3\" >2020-07-30</td>\n",
       "                        <td id=\"T_beb83c54_2f14_11eb_bc9c_d03745710ddarow0_col4\" class=\"data row0 col4\" >74,985</td>\n",
       "                        <td id=\"T_beb83c54_2f14_11eb_bc9c_d03745710ddarow0_col5\" class=\"data row0 col5\" >1,457</td>\n",
       "                        <td id=\"T_beb83c54_2f14_11eb_bc9c_d03745710ddarow0_col6\" class=\"data row0 col6\" >805,854</td>\n",
       "            </tr>\n",
       "            <tr>\n",
       "                                <td id=\"T_beb83c54_2f14_11eb_bc9c_d03745710ddarow1_col0\" class=\"data row1 col0\" >BRA</td>\n",
       "                        <td id=\"T_beb83c54_2f14_11eb_bc9c_d03745710ddarow1_col1\" class=\"data row1 col1\" >South America</td>\n",
       "                        <td id=\"T_beb83c54_2f14_11eb_bc9c_d03745710ddarow1_col2\" class=\"data row1 col2\" >Brazil</td>\n",
       "                        <td id=\"T_beb83c54_2f14_11eb_bc9c_d03745710ddarow1_col3\" class=\"data row1 col3\" >2020-07-30</td>\n",
       "                        <td id=\"T_beb83c54_2f14_11eb_bc9c_d03745710ddarow1_col4\" class=\"data row1 col4\" >69,074</td>\n",
       "                        <td id=\"T_beb83c54_2f14_11eb_bc9c_d03745710ddarow1_col5\" class=\"data row1 col5\" >1,595</td>\n",
       "                        <td id=\"T_beb83c54_2f14_11eb_bc9c_d03745710ddarow1_col6\" class=\"data row1 col6\" >nan</td>\n",
       "            </tr>\n",
       "            <tr>\n",
       "                                <td id=\"T_beb83c54_2f14_11eb_bc9c_d03745710ddarow2_col0\" class=\"data row2 col0\" >USA</td>\n",
       "                        <td id=\"T_beb83c54_2f14_11eb_bc9c_d03745710ddarow2_col1\" class=\"data row2 col1\" >North America</td>\n",
       "                        <td id=\"T_beb83c54_2f14_11eb_bc9c_d03745710ddarow2_col2\" class=\"data row2 col2\" >United States</td>\n",
       "                        <td id=\"T_beb83c54_2f14_11eb_bc9c_d03745710ddarow2_col3\" class=\"data row2 col3\" >2020-07-31</td>\n",
       "                        <td id=\"T_beb83c54_2f14_11eb_bc9c_d03745710ddarow2_col4\" class=\"data row2 col4\" >68,032</td>\n",
       "                        <td id=\"T_beb83c54_2f14_11eb_bc9c_d03745710ddarow2_col5\" class=\"data row2 col5\" >1,357</td>\n",
       "                        <td id=\"T_beb83c54_2f14_11eb_bc9c_d03745710ddarow2_col6\" class=\"data row2 col6\" >725,982</td>\n",
       "            </tr>\n",
       "            <tr>\n",
       "                                <td id=\"T_beb83c54_2f14_11eb_bc9c_d03745710ddarow3_col0\" class=\"data row3 col0\" >USA</td>\n",
       "                        <td id=\"T_beb83c54_2f14_11eb_bc9c_d03745710ddarow3_col1\" class=\"data row3 col1\" >North America</td>\n",
       "                        <td id=\"T_beb83c54_2f14_11eb_bc9c_d03745710ddarow3_col2\" class=\"data row3 col2\" >United States</td>\n",
       "                        <td id=\"T_beb83c54_2f14_11eb_bc9c_d03745710ddarow3_col3\" class=\"data row3 col3\" >2020-08-01</td>\n",
       "                        <td id=\"T_beb83c54_2f14_11eb_bc9c_d03745710ddarow3_col4\" class=\"data row3 col4\" >67,023</td>\n",
       "                        <td id=\"T_beb83c54_2f14_11eb_bc9c_d03745710ddarow3_col5\" class=\"data row3 col5\" >1,244</td>\n",
       "                        <td id=\"T_beb83c54_2f14_11eb_bc9c_d03745710ddarow3_col6\" class=\"data row3 col6\" >726,010</td>\n",
       "            </tr>\n",
       "            <tr>\n",
       "                                <td id=\"T_beb83c54_2f14_11eb_bc9c_d03745710ddarow4_col0\" class=\"data row4 col0\" >IND</td>\n",
       "                        <td id=\"T_beb83c54_2f14_11eb_bc9c_d03745710ddarow4_col1\" class=\"data row4 col1\" >Asia</td>\n",
       "                        <td id=\"T_beb83c54_2f14_11eb_bc9c_d03745710ddarow4_col2\" class=\"data row4 col2\" >India</td>\n",
       "                        <td id=\"T_beb83c54_2f14_11eb_bc9c_d03745710ddarow4_col3\" class=\"data row4 col3\" >2020-08-07</td>\n",
       "                        <td id=\"T_beb83c54_2f14_11eb_bc9c_d03745710ddarow4_col4\" class=\"data row4 col4\" >62,538</td>\n",
       "                        <td id=\"T_beb83c54_2f14_11eb_bc9c_d03745710ddarow4_col5\" class=\"data row4 col5\" >886</td>\n",
       "                        <td id=\"T_beb83c54_2f14_11eb_bc9c_d03745710ddarow4_col6\" class=\"data row4 col6\" >639,042</td>\n",
       "            </tr>\n",
       "            <tr>\n",
       "                                <td id=\"T_beb83c54_2f14_11eb_bc9c_d03745710ddarow5_col0\" class=\"data row5 col0\" >USA</td>\n",
       "                        <td id=\"T_beb83c54_2f14_11eb_bc9c_d03745710ddarow5_col1\" class=\"data row5 col1\" >North America</td>\n",
       "                        <td id=\"T_beb83c54_2f14_11eb_bc9c_d03745710ddarow5_col2\" class=\"data row5 col2\" >United States</td>\n",
       "                        <td id=\"T_beb83c54_2f14_11eb_bc9c_d03745710ddarow5_col3\" class=\"data row5 col3\" >2020-07-29</td>\n",
       "                        <td id=\"T_beb83c54_2f14_11eb_bc9c_d03745710ddarow5_col4\" class=\"data row5 col4\" >61,734</td>\n",
       "                        <td id=\"T_beb83c54_2f14_11eb_bc9c_d03745710ddarow5_col5\" class=\"data row5 col5\" >1,245</td>\n",
       "                        <td id=\"T_beb83c54_2f14_11eb_bc9c_d03745710ddarow5_col6\" class=\"data row5 col6\" >853,326</td>\n",
       "            </tr>\n",
       "            <tr>\n",
       "                                <td id=\"T_beb83c54_2f14_11eb_bc9c_d03745710ddarow6_col0\" class=\"data row6 col0\" >USA</td>\n",
       "                        <td id=\"T_beb83c54_2f14_11eb_bc9c_d03745710ddarow6_col1\" class=\"data row6 col1\" >North America</td>\n",
       "                        <td id=\"T_beb83c54_2f14_11eb_bc9c_d03745710ddarow6_col2\" class=\"data row6 col2\" >United States</td>\n",
       "                        <td id=\"T_beb83c54_2f14_11eb_bc9c_d03745710ddarow6_col3\" class=\"data row6 col3\" >2020-08-07</td>\n",
       "                        <td id=\"T_beb83c54_2f14_11eb_bc9c_d03745710ddarow6_col4\" class=\"data row6 col4\" >59,755</td>\n",
       "                        <td id=\"T_beb83c54_2f14_11eb_bc9c_d03745710ddarow6_col5\" class=\"data row6 col5\" >1,848</td>\n",
       "                        <td id=\"T_beb83c54_2f14_11eb_bc9c_d03745710ddarow6_col6\" class=\"data row6 col6\" >nan</td>\n",
       "            </tr>\n",
       "            <tr>\n",
       "                                <td id=\"T_beb83c54_2f14_11eb_bc9c_d03745710ddarow7_col0\" class=\"data row7 col0\" >USA</td>\n",
       "                        <td id=\"T_beb83c54_2f14_11eb_bc9c_d03745710ddarow7_col1\" class=\"data row7 col1\" >North America</td>\n",
       "                        <td id=\"T_beb83c54_2f14_11eb_bc9c_d03745710ddarow7_col2\" class=\"data row7 col2\" >United States</td>\n",
       "                        <td id=\"T_beb83c54_2f14_11eb_bc9c_d03745710ddarow7_col3\" class=\"data row7 col3\" >2020-08-02</td>\n",
       "                        <td id=\"T_beb83c54_2f14_11eb_bc9c_d03745710ddarow7_col4\" class=\"data row7 col4\" >58,407</td>\n",
       "                        <td id=\"T_beb83c54_2f14_11eb_bc9c_d03745710ddarow7_col5\" class=\"data row7 col5\" >1,133</td>\n",
       "                        <td id=\"T_beb83c54_2f14_11eb_bc9c_d03745710ddarow7_col6\" class=\"data row7 col6\" >713,169</td>\n",
       "            </tr>\n",
       "            <tr>\n",
       "                                <td id=\"T_beb83c54_2f14_11eb_bc9c_d03745710ddarow8_col0\" class=\"data row8 col0\" >BRA</td>\n",
       "                        <td id=\"T_beb83c54_2f14_11eb_bc9c_d03745710ddarow8_col1\" class=\"data row8 col1\" >South America</td>\n",
       "                        <td id=\"T_beb83c54_2f14_11eb_bc9c_d03745710ddarow8_col2\" class=\"data row8 col2\" >Brazil</td>\n",
       "                        <td id=\"T_beb83c54_2f14_11eb_bc9c_d03745710ddarow8_col3\" class=\"data row8 col3\" >2020-07-31</td>\n",
       "                        <td id=\"T_beb83c54_2f14_11eb_bc9c_d03745710ddarow8_col4\" class=\"data row8 col4\" >57,837</td>\n",
       "                        <td id=\"T_beb83c54_2f14_11eb_bc9c_d03745710ddarow8_col5\" class=\"data row8 col5\" >1,129</td>\n",
       "                        <td id=\"T_beb83c54_2f14_11eb_bc9c_d03745710ddarow8_col6\" class=\"data row8 col6\" >nan</td>\n",
       "            </tr>\n",
       "            <tr>\n",
       "                                <td id=\"T_beb83c54_2f14_11eb_bc9c_d03745710ddarow9_col0\" class=\"data row9 col0\" >USA</td>\n",
       "                        <td id=\"T_beb83c54_2f14_11eb_bc9c_d03745710ddarow9_col1\" class=\"data row9 col1\" >North America</td>\n",
       "                        <td id=\"T_beb83c54_2f14_11eb_bc9c_d03745710ddarow9_col2\" class=\"data row9 col2\" >United States</td>\n",
       "                        <td id=\"T_beb83c54_2f14_11eb_bc9c_d03745710ddarow9_col3\" class=\"data row9 col3\" >2020-08-05</td>\n",
       "                        <td id=\"T_beb83c54_2f14_11eb_bc9c_d03745710ddarow9_col4\" class=\"data row9 col4\" >57,525</td>\n",
       "                        <td id=\"T_beb83c54_2f14_11eb_bc9c_d03745710ddarow9_col5\" class=\"data row9 col5\" >1,403</td>\n",
       "                        <td id=\"T_beb83c54_2f14_11eb_bc9c_d03745710ddarow9_col6\" class=\"data row9 col6\" >681,537</td>\n",
       "            </tr>\n",
       "    </tbody></table>"
      ],
      "text/plain": [
       "<pandas.io.formats.style.Styler at 0x26fb5ad1108>"
      ]
     },
     "execution_count": 38,
     "metadata": {},
     "output_type": "execute_result"
    }
   ],
   "source": [
    "# formatting the data to show numbers as comma separated\n",
    "data.style.format({'new_cases':'{0:,.0f}','new_deaths':'{0:,.0f}','new_tests':'{0:,.0f}',}).hide_index()"
   ]
  },
  {
   "cell_type": "code",
   "execution_count": 39,
   "metadata": {},
   "outputs": [
    {
     "data": {
      "text/html": [
       "<style  type=\"text/css\" >\n",
       "#T_bebb4994_2f14_11eb_9d74_d03745710ddarow0_col4,#T_bebb4994_2f14_11eb_9d74_d03745710ddarow5_col6,#T_bebb4994_2f14_11eb_9d74_d03745710ddarow6_col5{\n",
       "            background-color:  yellow;\n",
       "        }</style><table id=\"T_bebb4994_2f14_11eb_9d74_d03745710dda\" ><thead>    <tr>        <th class=\"col_heading level0 col0\" >iso_code</th>        <th class=\"col_heading level0 col1\" >continent</th>        <th class=\"col_heading level0 col2\" >location</th>        <th class=\"col_heading level0 col3\" >date</th>        <th class=\"col_heading level0 col4\" >new_cases</th>        <th class=\"col_heading level0 col5\" >new_deaths</th>        <th class=\"col_heading level0 col6\" >new_tests</th>    </tr></thead><tbody>\n",
       "                <tr>\n",
       "                                <td id=\"T_bebb4994_2f14_11eb_9d74_d03745710ddarow0_col0\" class=\"data row0 col0\" >USA</td>\n",
       "                        <td id=\"T_bebb4994_2f14_11eb_9d74_d03745710ddarow0_col1\" class=\"data row0 col1\" >North America</td>\n",
       "                        <td id=\"T_bebb4994_2f14_11eb_9d74_d03745710ddarow0_col2\" class=\"data row0 col2\" >United States</td>\n",
       "                        <td id=\"T_bebb4994_2f14_11eb_9d74_d03745710ddarow0_col3\" class=\"data row0 col3\" >2020-07-30</td>\n",
       "                        <td id=\"T_bebb4994_2f14_11eb_9d74_d03745710ddarow0_col4\" class=\"data row0 col4\" >74985</td>\n",
       "                        <td id=\"T_bebb4994_2f14_11eb_9d74_d03745710ddarow0_col5\" class=\"data row0 col5\" >1457</td>\n",
       "                        <td id=\"T_bebb4994_2f14_11eb_9d74_d03745710ddarow0_col6\" class=\"data row0 col6\" >805854.000000</td>\n",
       "            </tr>\n",
       "            <tr>\n",
       "                                <td id=\"T_bebb4994_2f14_11eb_9d74_d03745710ddarow1_col0\" class=\"data row1 col0\" >BRA</td>\n",
       "                        <td id=\"T_bebb4994_2f14_11eb_9d74_d03745710ddarow1_col1\" class=\"data row1 col1\" >South America</td>\n",
       "                        <td id=\"T_bebb4994_2f14_11eb_9d74_d03745710ddarow1_col2\" class=\"data row1 col2\" >Brazil</td>\n",
       "                        <td id=\"T_bebb4994_2f14_11eb_9d74_d03745710ddarow1_col3\" class=\"data row1 col3\" >2020-07-30</td>\n",
       "                        <td id=\"T_bebb4994_2f14_11eb_9d74_d03745710ddarow1_col4\" class=\"data row1 col4\" >69074</td>\n",
       "                        <td id=\"T_bebb4994_2f14_11eb_9d74_d03745710ddarow1_col5\" class=\"data row1 col5\" >1595</td>\n",
       "                        <td id=\"T_bebb4994_2f14_11eb_9d74_d03745710ddarow1_col6\" class=\"data row1 col6\" >nan</td>\n",
       "            </tr>\n",
       "            <tr>\n",
       "                                <td id=\"T_bebb4994_2f14_11eb_9d74_d03745710ddarow2_col0\" class=\"data row2 col0\" >USA</td>\n",
       "                        <td id=\"T_bebb4994_2f14_11eb_9d74_d03745710ddarow2_col1\" class=\"data row2 col1\" >North America</td>\n",
       "                        <td id=\"T_bebb4994_2f14_11eb_9d74_d03745710ddarow2_col2\" class=\"data row2 col2\" >United States</td>\n",
       "                        <td id=\"T_bebb4994_2f14_11eb_9d74_d03745710ddarow2_col3\" class=\"data row2 col3\" >2020-07-31</td>\n",
       "                        <td id=\"T_bebb4994_2f14_11eb_9d74_d03745710ddarow2_col4\" class=\"data row2 col4\" >68032</td>\n",
       "                        <td id=\"T_bebb4994_2f14_11eb_9d74_d03745710ddarow2_col5\" class=\"data row2 col5\" >1357</td>\n",
       "                        <td id=\"T_bebb4994_2f14_11eb_9d74_d03745710ddarow2_col6\" class=\"data row2 col6\" >725982.000000</td>\n",
       "            </tr>\n",
       "            <tr>\n",
       "                                <td id=\"T_bebb4994_2f14_11eb_9d74_d03745710ddarow3_col0\" class=\"data row3 col0\" >USA</td>\n",
       "                        <td id=\"T_bebb4994_2f14_11eb_9d74_d03745710ddarow3_col1\" class=\"data row3 col1\" >North America</td>\n",
       "                        <td id=\"T_bebb4994_2f14_11eb_9d74_d03745710ddarow3_col2\" class=\"data row3 col2\" >United States</td>\n",
       "                        <td id=\"T_bebb4994_2f14_11eb_9d74_d03745710ddarow3_col3\" class=\"data row3 col3\" >2020-08-01</td>\n",
       "                        <td id=\"T_bebb4994_2f14_11eb_9d74_d03745710ddarow3_col4\" class=\"data row3 col4\" >67023</td>\n",
       "                        <td id=\"T_bebb4994_2f14_11eb_9d74_d03745710ddarow3_col5\" class=\"data row3 col5\" >1244</td>\n",
       "                        <td id=\"T_bebb4994_2f14_11eb_9d74_d03745710ddarow3_col6\" class=\"data row3 col6\" >726010.000000</td>\n",
       "            </tr>\n",
       "            <tr>\n",
       "                                <td id=\"T_bebb4994_2f14_11eb_9d74_d03745710ddarow4_col0\" class=\"data row4 col0\" >IND</td>\n",
       "                        <td id=\"T_bebb4994_2f14_11eb_9d74_d03745710ddarow4_col1\" class=\"data row4 col1\" >Asia</td>\n",
       "                        <td id=\"T_bebb4994_2f14_11eb_9d74_d03745710ddarow4_col2\" class=\"data row4 col2\" >India</td>\n",
       "                        <td id=\"T_bebb4994_2f14_11eb_9d74_d03745710ddarow4_col3\" class=\"data row4 col3\" >2020-08-07</td>\n",
       "                        <td id=\"T_bebb4994_2f14_11eb_9d74_d03745710ddarow4_col4\" class=\"data row4 col4\" >62538</td>\n",
       "                        <td id=\"T_bebb4994_2f14_11eb_9d74_d03745710ddarow4_col5\" class=\"data row4 col5\" >886</td>\n",
       "                        <td id=\"T_bebb4994_2f14_11eb_9d74_d03745710ddarow4_col6\" class=\"data row4 col6\" >639042.000000</td>\n",
       "            </tr>\n",
       "            <tr>\n",
       "                                <td id=\"T_bebb4994_2f14_11eb_9d74_d03745710ddarow5_col0\" class=\"data row5 col0\" >USA</td>\n",
       "                        <td id=\"T_bebb4994_2f14_11eb_9d74_d03745710ddarow5_col1\" class=\"data row5 col1\" >North America</td>\n",
       "                        <td id=\"T_bebb4994_2f14_11eb_9d74_d03745710ddarow5_col2\" class=\"data row5 col2\" >United States</td>\n",
       "                        <td id=\"T_bebb4994_2f14_11eb_9d74_d03745710ddarow5_col3\" class=\"data row5 col3\" >2020-07-29</td>\n",
       "                        <td id=\"T_bebb4994_2f14_11eb_9d74_d03745710ddarow5_col4\" class=\"data row5 col4\" >61734</td>\n",
       "                        <td id=\"T_bebb4994_2f14_11eb_9d74_d03745710ddarow5_col5\" class=\"data row5 col5\" >1245</td>\n",
       "                        <td id=\"T_bebb4994_2f14_11eb_9d74_d03745710ddarow5_col6\" class=\"data row5 col6\" >853326.000000</td>\n",
       "            </tr>\n",
       "            <tr>\n",
       "                                <td id=\"T_bebb4994_2f14_11eb_9d74_d03745710ddarow6_col0\" class=\"data row6 col0\" >USA</td>\n",
       "                        <td id=\"T_bebb4994_2f14_11eb_9d74_d03745710ddarow6_col1\" class=\"data row6 col1\" >North America</td>\n",
       "                        <td id=\"T_bebb4994_2f14_11eb_9d74_d03745710ddarow6_col2\" class=\"data row6 col2\" >United States</td>\n",
       "                        <td id=\"T_bebb4994_2f14_11eb_9d74_d03745710ddarow6_col3\" class=\"data row6 col3\" >2020-08-07</td>\n",
       "                        <td id=\"T_bebb4994_2f14_11eb_9d74_d03745710ddarow6_col4\" class=\"data row6 col4\" >59755</td>\n",
       "                        <td id=\"T_bebb4994_2f14_11eb_9d74_d03745710ddarow6_col5\" class=\"data row6 col5\" >1848</td>\n",
       "                        <td id=\"T_bebb4994_2f14_11eb_9d74_d03745710ddarow6_col6\" class=\"data row6 col6\" >nan</td>\n",
       "            </tr>\n",
       "            <tr>\n",
       "                                <td id=\"T_bebb4994_2f14_11eb_9d74_d03745710ddarow7_col0\" class=\"data row7 col0\" >USA</td>\n",
       "                        <td id=\"T_bebb4994_2f14_11eb_9d74_d03745710ddarow7_col1\" class=\"data row7 col1\" >North America</td>\n",
       "                        <td id=\"T_bebb4994_2f14_11eb_9d74_d03745710ddarow7_col2\" class=\"data row7 col2\" >United States</td>\n",
       "                        <td id=\"T_bebb4994_2f14_11eb_9d74_d03745710ddarow7_col3\" class=\"data row7 col3\" >2020-08-02</td>\n",
       "                        <td id=\"T_bebb4994_2f14_11eb_9d74_d03745710ddarow7_col4\" class=\"data row7 col4\" >58407</td>\n",
       "                        <td id=\"T_bebb4994_2f14_11eb_9d74_d03745710ddarow7_col5\" class=\"data row7 col5\" >1133</td>\n",
       "                        <td id=\"T_bebb4994_2f14_11eb_9d74_d03745710ddarow7_col6\" class=\"data row7 col6\" >713169.000000</td>\n",
       "            </tr>\n",
       "            <tr>\n",
       "                                <td id=\"T_bebb4994_2f14_11eb_9d74_d03745710ddarow8_col0\" class=\"data row8 col0\" >BRA</td>\n",
       "                        <td id=\"T_bebb4994_2f14_11eb_9d74_d03745710ddarow8_col1\" class=\"data row8 col1\" >South America</td>\n",
       "                        <td id=\"T_bebb4994_2f14_11eb_9d74_d03745710ddarow8_col2\" class=\"data row8 col2\" >Brazil</td>\n",
       "                        <td id=\"T_bebb4994_2f14_11eb_9d74_d03745710ddarow8_col3\" class=\"data row8 col3\" >2020-07-31</td>\n",
       "                        <td id=\"T_bebb4994_2f14_11eb_9d74_d03745710ddarow8_col4\" class=\"data row8 col4\" >57837</td>\n",
       "                        <td id=\"T_bebb4994_2f14_11eb_9d74_d03745710ddarow8_col5\" class=\"data row8 col5\" >1129</td>\n",
       "                        <td id=\"T_bebb4994_2f14_11eb_9d74_d03745710ddarow8_col6\" class=\"data row8 col6\" >nan</td>\n",
       "            </tr>\n",
       "            <tr>\n",
       "                                <td id=\"T_bebb4994_2f14_11eb_9d74_d03745710ddarow9_col0\" class=\"data row9 col0\" >USA</td>\n",
       "                        <td id=\"T_bebb4994_2f14_11eb_9d74_d03745710ddarow9_col1\" class=\"data row9 col1\" >North America</td>\n",
       "                        <td id=\"T_bebb4994_2f14_11eb_9d74_d03745710ddarow9_col2\" class=\"data row9 col2\" >United States</td>\n",
       "                        <td id=\"T_bebb4994_2f14_11eb_9d74_d03745710ddarow9_col3\" class=\"data row9 col3\" >2020-08-05</td>\n",
       "                        <td id=\"T_bebb4994_2f14_11eb_9d74_d03745710ddarow9_col4\" class=\"data row9 col4\" >57525</td>\n",
       "                        <td id=\"T_bebb4994_2f14_11eb_9d74_d03745710ddarow9_col5\" class=\"data row9 col5\" >1403</td>\n",
       "                        <td id=\"T_bebb4994_2f14_11eb_9d74_d03745710ddarow9_col6\" class=\"data row9 col6\" >681537.000000</td>\n",
       "            </tr>\n",
       "    </tbody></table>"
      ],
      "text/plain": [
       "<pandas.io.formats.style.Styler at 0x26fb56a7808>"
      ]
     },
     "execution_count": 39,
     "metadata": {},
     "output_type": "execute_result"
    }
   ],
   "source": [
    "# This will highlight the maximum for numeric column\n",
    "data.style.highlight_max().hide_index()"
   ]
  },
  {
   "cell_type": "code",
   "execution_count": 40,
   "metadata": {},
   "outputs": [
    {
     "data": {
      "text/html": [
       "<style  type=\"text/css\" >\n",
       "#T_bebe08b0_2f14_11eb_9933_d03745710ddarow0_col4,#T_bebe08b0_2f14_11eb_9933_d03745710ddarow5_col6,#T_bebe08b0_2f14_11eb_9933_d03745710ddarow6_col5{\n",
       "            background-color:  #08306b;\n",
       "            color:  #f1f1f1;\n",
       "        }#T_bebe08b0_2f14_11eb_9933_d03745710ddarow0_col5{\n",
       "            background-color:  #4d99ca;\n",
       "            color:  #000000;\n",
       "        }#T_bebe08b0_2f14_11eb_9933_d03745710ddarow0_col6{\n",
       "            background-color:  #1b69af;\n",
       "            color:  #f1f1f1;\n",
       "        }#T_bebe08b0_2f14_11eb_9933_d03745710ddarow1_col4{\n",
       "            background-color:  #3888c1;\n",
       "            color:  #000000;\n",
       "        }#T_bebe08b0_2f14_11eb_9933_d03745710ddarow1_col5{\n",
       "            background-color:  #2474b7;\n",
       "            color:  #f1f1f1;\n",
       "        }#T_bebe08b0_2f14_11eb_9933_d03745710ddarow1_col6,#T_bebe08b0_2f14_11eb_9933_d03745710ddarow6_col6,#T_bebe08b0_2f14_11eb_9933_d03745710ddarow8_col6{\n",
       "            background-color:  #000000;\n",
       "            color:  #f1f1f1;\n",
       "        }#T_bebe08b0_2f14_11eb_9933_d03745710ddarow2_col4{\n",
       "            background-color:  #4997c9;\n",
       "            color:  #000000;\n",
       "        }#T_bebe08b0_2f14_11eb_9933_d03745710ddarow2_col5{\n",
       "            background-color:  #6fb0d7;\n",
       "            color:  #000000;\n",
       "        }#T_bebe08b0_2f14_11eb_9933_d03745710ddarow2_col6,#T_bebe08b0_2f14_11eb_9933_d03745710ddarow3_col6{\n",
       "            background-color:  #92c4de;\n",
       "            color:  #000000;\n",
       "        }#T_bebe08b0_2f14_11eb_9933_d03745710ddarow3_col4{\n",
       "            background-color:  #5ca4d0;\n",
       "            color:  #000000;\n",
       "        }#T_bebe08b0_2f14_11eb_9933_d03745710ddarow3_col5,#T_bebe08b0_2f14_11eb_9933_d03745710ddarow5_col5{\n",
       "            background-color:  #9fcae1;\n",
       "            color:  #000000;\n",
       "        }#T_bebe08b0_2f14_11eb_9933_d03745710ddarow4_col4{\n",
       "            background-color:  #bad6eb;\n",
       "            color:  #000000;\n",
       "        }#T_bebe08b0_2f14_11eb_9933_d03745710ddarow4_col5,#T_bebe08b0_2f14_11eb_9933_d03745710ddarow4_col6,#T_bebe08b0_2f14_11eb_9933_d03745710ddarow9_col4{\n",
       "            background-color:  #f7fbff;\n",
       "            color:  #000000;\n",
       "        }#T_bebe08b0_2f14_11eb_9933_d03745710ddarow5_col4{\n",
       "            background-color:  #c8dcf0;\n",
       "            color:  #000000;\n",
       "        }#T_bebe08b0_2f14_11eb_9933_d03745710ddarow6_col4{\n",
       "            background-color:  #deebf7;\n",
       "            color:  #000000;\n",
       "        }#T_bebe08b0_2f14_11eb_9933_d03745710ddarow7_col4{\n",
       "            background-color:  #eef5fc;\n",
       "            color:  #000000;\n",
       "        }#T_bebe08b0_2f14_11eb_9933_d03745710ddarow7_col5{\n",
       "            background-color:  #c4daee;\n",
       "            color:  #000000;\n",
       "        }#T_bebe08b0_2f14_11eb_9933_d03745710ddarow7_col6{\n",
       "            background-color:  #a8cee4;\n",
       "            color:  #000000;\n",
       "        }#T_bebe08b0_2f14_11eb_9933_d03745710ddarow8_col4{\n",
       "            background-color:  #f4f9fe;\n",
       "            color:  #000000;\n",
       "        }#T_bebe08b0_2f14_11eb_9933_d03745710ddarow8_col5{\n",
       "            background-color:  #c6dbef;\n",
       "            color:  #000000;\n",
       "        }#T_bebe08b0_2f14_11eb_9933_d03745710ddarow9_col5{\n",
       "            background-color:  #5fa6d1;\n",
       "            color:  #000000;\n",
       "        }#T_bebe08b0_2f14_11eb_9933_d03745710ddarow9_col6{\n",
       "            background-color:  #d0e2f2;\n",
       "            color:  #000000;\n",
       "        }</style><table id=\"T_bebe08b0_2f14_11eb_9933_d03745710dda\" ><thead>    <tr>        <th class=\"col_heading level0 col0\" >iso_code</th>        <th class=\"col_heading level0 col1\" >continent</th>        <th class=\"col_heading level0 col2\" >location</th>        <th class=\"col_heading level0 col3\" >date</th>        <th class=\"col_heading level0 col4\" >new_cases</th>        <th class=\"col_heading level0 col5\" >new_deaths</th>        <th class=\"col_heading level0 col6\" >new_tests</th>    </tr></thead><tbody>\n",
       "                <tr>\n",
       "                                <td id=\"T_bebe08b0_2f14_11eb_9933_d03745710ddarow0_col0\" class=\"data row0 col0\" >USA</td>\n",
       "                        <td id=\"T_bebe08b0_2f14_11eb_9933_d03745710ddarow0_col1\" class=\"data row0 col1\" >North America</td>\n",
       "                        <td id=\"T_bebe08b0_2f14_11eb_9933_d03745710ddarow0_col2\" class=\"data row0 col2\" >United States</td>\n",
       "                        <td id=\"T_bebe08b0_2f14_11eb_9933_d03745710ddarow0_col3\" class=\"data row0 col3\" >2020-07-30</td>\n",
       "                        <td id=\"T_bebe08b0_2f14_11eb_9933_d03745710ddarow0_col4\" class=\"data row0 col4\" >74985</td>\n",
       "                        <td id=\"T_bebe08b0_2f14_11eb_9933_d03745710ddarow0_col5\" class=\"data row0 col5\" >1457</td>\n",
       "                        <td id=\"T_bebe08b0_2f14_11eb_9933_d03745710ddarow0_col6\" class=\"data row0 col6\" >805854.000000</td>\n",
       "            </tr>\n",
       "            <tr>\n",
       "                                <td id=\"T_bebe08b0_2f14_11eb_9933_d03745710ddarow1_col0\" class=\"data row1 col0\" >BRA</td>\n",
       "                        <td id=\"T_bebe08b0_2f14_11eb_9933_d03745710ddarow1_col1\" class=\"data row1 col1\" >South America</td>\n",
       "                        <td id=\"T_bebe08b0_2f14_11eb_9933_d03745710ddarow1_col2\" class=\"data row1 col2\" >Brazil</td>\n",
       "                        <td id=\"T_bebe08b0_2f14_11eb_9933_d03745710ddarow1_col3\" class=\"data row1 col3\" >2020-07-30</td>\n",
       "                        <td id=\"T_bebe08b0_2f14_11eb_9933_d03745710ddarow1_col4\" class=\"data row1 col4\" >69074</td>\n",
       "                        <td id=\"T_bebe08b0_2f14_11eb_9933_d03745710ddarow1_col5\" class=\"data row1 col5\" >1595</td>\n",
       "                        <td id=\"T_bebe08b0_2f14_11eb_9933_d03745710ddarow1_col6\" class=\"data row1 col6\" >nan</td>\n",
       "            </tr>\n",
       "            <tr>\n",
       "                                <td id=\"T_bebe08b0_2f14_11eb_9933_d03745710ddarow2_col0\" class=\"data row2 col0\" >USA</td>\n",
       "                        <td id=\"T_bebe08b0_2f14_11eb_9933_d03745710ddarow2_col1\" class=\"data row2 col1\" >North America</td>\n",
       "                        <td id=\"T_bebe08b0_2f14_11eb_9933_d03745710ddarow2_col2\" class=\"data row2 col2\" >United States</td>\n",
       "                        <td id=\"T_bebe08b0_2f14_11eb_9933_d03745710ddarow2_col3\" class=\"data row2 col3\" >2020-07-31</td>\n",
       "                        <td id=\"T_bebe08b0_2f14_11eb_9933_d03745710ddarow2_col4\" class=\"data row2 col4\" >68032</td>\n",
       "                        <td id=\"T_bebe08b0_2f14_11eb_9933_d03745710ddarow2_col5\" class=\"data row2 col5\" >1357</td>\n",
       "                        <td id=\"T_bebe08b0_2f14_11eb_9933_d03745710ddarow2_col6\" class=\"data row2 col6\" >725982.000000</td>\n",
       "            </tr>\n",
       "            <tr>\n",
       "                                <td id=\"T_bebe08b0_2f14_11eb_9933_d03745710ddarow3_col0\" class=\"data row3 col0\" >USA</td>\n",
       "                        <td id=\"T_bebe08b0_2f14_11eb_9933_d03745710ddarow3_col1\" class=\"data row3 col1\" >North America</td>\n",
       "                        <td id=\"T_bebe08b0_2f14_11eb_9933_d03745710ddarow3_col2\" class=\"data row3 col2\" >United States</td>\n",
       "                        <td id=\"T_bebe08b0_2f14_11eb_9933_d03745710ddarow3_col3\" class=\"data row3 col3\" >2020-08-01</td>\n",
       "                        <td id=\"T_bebe08b0_2f14_11eb_9933_d03745710ddarow3_col4\" class=\"data row3 col4\" >67023</td>\n",
       "                        <td id=\"T_bebe08b0_2f14_11eb_9933_d03745710ddarow3_col5\" class=\"data row3 col5\" >1244</td>\n",
       "                        <td id=\"T_bebe08b0_2f14_11eb_9933_d03745710ddarow3_col6\" class=\"data row3 col6\" >726010.000000</td>\n",
       "            </tr>\n",
       "            <tr>\n",
       "                                <td id=\"T_bebe08b0_2f14_11eb_9933_d03745710ddarow4_col0\" class=\"data row4 col0\" >IND</td>\n",
       "                        <td id=\"T_bebe08b0_2f14_11eb_9933_d03745710ddarow4_col1\" class=\"data row4 col1\" >Asia</td>\n",
       "                        <td id=\"T_bebe08b0_2f14_11eb_9933_d03745710ddarow4_col2\" class=\"data row4 col2\" >India</td>\n",
       "                        <td id=\"T_bebe08b0_2f14_11eb_9933_d03745710ddarow4_col3\" class=\"data row4 col3\" >2020-08-07</td>\n",
       "                        <td id=\"T_bebe08b0_2f14_11eb_9933_d03745710ddarow4_col4\" class=\"data row4 col4\" >62538</td>\n",
       "                        <td id=\"T_bebe08b0_2f14_11eb_9933_d03745710ddarow4_col5\" class=\"data row4 col5\" >886</td>\n",
       "                        <td id=\"T_bebe08b0_2f14_11eb_9933_d03745710ddarow4_col6\" class=\"data row4 col6\" >639042.000000</td>\n",
       "            </tr>\n",
       "            <tr>\n",
       "                                <td id=\"T_bebe08b0_2f14_11eb_9933_d03745710ddarow5_col0\" class=\"data row5 col0\" >USA</td>\n",
       "                        <td id=\"T_bebe08b0_2f14_11eb_9933_d03745710ddarow5_col1\" class=\"data row5 col1\" >North America</td>\n",
       "                        <td id=\"T_bebe08b0_2f14_11eb_9933_d03745710ddarow5_col2\" class=\"data row5 col2\" >United States</td>\n",
       "                        <td id=\"T_bebe08b0_2f14_11eb_9933_d03745710ddarow5_col3\" class=\"data row5 col3\" >2020-07-29</td>\n",
       "                        <td id=\"T_bebe08b0_2f14_11eb_9933_d03745710ddarow5_col4\" class=\"data row5 col4\" >61734</td>\n",
       "                        <td id=\"T_bebe08b0_2f14_11eb_9933_d03745710ddarow5_col5\" class=\"data row5 col5\" >1245</td>\n",
       "                        <td id=\"T_bebe08b0_2f14_11eb_9933_d03745710ddarow5_col6\" class=\"data row5 col6\" >853326.000000</td>\n",
       "            </tr>\n",
       "            <tr>\n",
       "                                <td id=\"T_bebe08b0_2f14_11eb_9933_d03745710ddarow6_col0\" class=\"data row6 col0\" >USA</td>\n",
       "                        <td id=\"T_bebe08b0_2f14_11eb_9933_d03745710ddarow6_col1\" class=\"data row6 col1\" >North America</td>\n",
       "                        <td id=\"T_bebe08b0_2f14_11eb_9933_d03745710ddarow6_col2\" class=\"data row6 col2\" >United States</td>\n",
       "                        <td id=\"T_bebe08b0_2f14_11eb_9933_d03745710ddarow6_col3\" class=\"data row6 col3\" >2020-08-07</td>\n",
       "                        <td id=\"T_bebe08b0_2f14_11eb_9933_d03745710ddarow6_col4\" class=\"data row6 col4\" >59755</td>\n",
       "                        <td id=\"T_bebe08b0_2f14_11eb_9933_d03745710ddarow6_col5\" class=\"data row6 col5\" >1848</td>\n",
       "                        <td id=\"T_bebe08b0_2f14_11eb_9933_d03745710ddarow6_col6\" class=\"data row6 col6\" >nan</td>\n",
       "            </tr>\n",
       "            <tr>\n",
       "                                <td id=\"T_bebe08b0_2f14_11eb_9933_d03745710ddarow7_col0\" class=\"data row7 col0\" >USA</td>\n",
       "                        <td id=\"T_bebe08b0_2f14_11eb_9933_d03745710ddarow7_col1\" class=\"data row7 col1\" >North America</td>\n",
       "                        <td id=\"T_bebe08b0_2f14_11eb_9933_d03745710ddarow7_col2\" class=\"data row7 col2\" >United States</td>\n",
       "                        <td id=\"T_bebe08b0_2f14_11eb_9933_d03745710ddarow7_col3\" class=\"data row7 col3\" >2020-08-02</td>\n",
       "                        <td id=\"T_bebe08b0_2f14_11eb_9933_d03745710ddarow7_col4\" class=\"data row7 col4\" >58407</td>\n",
       "                        <td id=\"T_bebe08b0_2f14_11eb_9933_d03745710ddarow7_col5\" class=\"data row7 col5\" >1133</td>\n",
       "                        <td id=\"T_bebe08b0_2f14_11eb_9933_d03745710ddarow7_col6\" class=\"data row7 col6\" >713169.000000</td>\n",
       "            </tr>\n",
       "            <tr>\n",
       "                                <td id=\"T_bebe08b0_2f14_11eb_9933_d03745710ddarow8_col0\" class=\"data row8 col0\" >BRA</td>\n",
       "                        <td id=\"T_bebe08b0_2f14_11eb_9933_d03745710ddarow8_col1\" class=\"data row8 col1\" >South America</td>\n",
       "                        <td id=\"T_bebe08b0_2f14_11eb_9933_d03745710ddarow8_col2\" class=\"data row8 col2\" >Brazil</td>\n",
       "                        <td id=\"T_bebe08b0_2f14_11eb_9933_d03745710ddarow8_col3\" class=\"data row8 col3\" >2020-07-31</td>\n",
       "                        <td id=\"T_bebe08b0_2f14_11eb_9933_d03745710ddarow8_col4\" class=\"data row8 col4\" >57837</td>\n",
       "                        <td id=\"T_bebe08b0_2f14_11eb_9933_d03745710ddarow8_col5\" class=\"data row8 col5\" >1129</td>\n",
       "                        <td id=\"T_bebe08b0_2f14_11eb_9933_d03745710ddarow8_col6\" class=\"data row8 col6\" >nan</td>\n",
       "            </tr>\n",
       "            <tr>\n",
       "                                <td id=\"T_bebe08b0_2f14_11eb_9933_d03745710ddarow9_col0\" class=\"data row9 col0\" >USA</td>\n",
       "                        <td id=\"T_bebe08b0_2f14_11eb_9933_d03745710ddarow9_col1\" class=\"data row9 col1\" >North America</td>\n",
       "                        <td id=\"T_bebe08b0_2f14_11eb_9933_d03745710ddarow9_col2\" class=\"data row9 col2\" >United States</td>\n",
       "                        <td id=\"T_bebe08b0_2f14_11eb_9933_d03745710ddarow9_col3\" class=\"data row9 col3\" >2020-08-05</td>\n",
       "                        <td id=\"T_bebe08b0_2f14_11eb_9933_d03745710ddarow9_col4\" class=\"data row9 col4\" >57525</td>\n",
       "                        <td id=\"T_bebe08b0_2f14_11eb_9933_d03745710ddarow9_col5\" class=\"data row9 col5\" >1403</td>\n",
       "                        <td id=\"T_bebe08b0_2f14_11eb_9933_d03745710ddarow9_col6\" class=\"data row9 col6\" >681537.000000</td>\n",
       "            </tr>\n",
       "    </tbody></table>"
      ],
      "text/plain": [
       "<pandas.io.formats.style.Styler at 0x26fb56d6a88>"
      ]
     },
     "execution_count": 40,
     "metadata": {},
     "output_type": "execute_result"
    }
   ],
   "source": [
    "# Adding blue color map for each numeric field\n",
    "data.style.hide_index().background_gradient(cmap='Blues')"
   ]
  },
  {
   "cell_type": "code",
   "execution_count": 41,
   "metadata": {},
   "outputs": [
    {
     "data": {
      "text/plain": [
       "date        location     \n",
       "2020-07-30  United States    74985\n",
       "            Brazil           69074\n",
       "2020-07-31  United States    68032\n",
       "2020-08-01  United States    67023\n",
       "2020-08-07  India            62538\n",
       "2020-07-29  United States    61734\n",
       "2020-08-07  United States    59755\n",
       "2020-08-02  United States    58407\n",
       "2020-07-31  Brazil           57837\n",
       "2020-08-05  United States    57525\n",
       "Name: new_cases, dtype: int64"
      ]
     },
     "execution_count": 41,
     "metadata": {},
     "output_type": "execute_result"
    }
   ],
   "source": [
    "# Step 1: create a group based on date and location\n",
    "# Step 2: order it by number of new cases.\n",
    "grouped_data = data.groupby(['date','location']).new_cases.sum().sort_values(ascending=False)\n",
    "# we have data for each date grouped by location.\n",
    "grouped_data"
   ]
  },
  {
   "cell_type": "code",
   "execution_count": 42,
   "metadata": {},
   "outputs": [
    {
     "data": {
      "text/html": [
       "<div>\n",
       "<style scoped>\n",
       "    .dataframe tbody tr th:only-of-type {\n",
       "        vertical-align: middle;\n",
       "    }\n",
       "\n",
       "    .dataframe tbody tr th {\n",
       "        vertical-align: top;\n",
       "    }\n",
       "\n",
       "    .dataframe thead th {\n",
       "        text-align: right;\n",
       "    }\n",
       "</style>\n",
       "<table border=\"1\" class=\"dataframe\">\n",
       "  <thead>\n",
       "    <tr style=\"text-align: right;\">\n",
       "      <th></th>\n",
       "      <th>date</th>\n",
       "      <th>location</th>\n",
       "      <th>new_cases</th>\n",
       "    </tr>\n",
       "  </thead>\n",
       "  <tbody>\n",
       "    <tr>\n",
       "      <th>0</th>\n",
       "      <td>2020-07-30</td>\n",
       "      <td>United States</td>\n",
       "      <td>74985</td>\n",
       "    </tr>\n",
       "    <tr>\n",
       "      <th>1</th>\n",
       "      <td>2020-07-30</td>\n",
       "      <td>Brazil</td>\n",
       "      <td>69074</td>\n",
       "    </tr>\n",
       "    <tr>\n",
       "      <th>2</th>\n",
       "      <td>2020-07-31</td>\n",
       "      <td>United States</td>\n",
       "      <td>68032</td>\n",
       "    </tr>\n",
       "    <tr>\n",
       "      <th>3</th>\n",
       "      <td>2020-08-01</td>\n",
       "      <td>United States</td>\n",
       "      <td>67023</td>\n",
       "    </tr>\n",
       "    <tr>\n",
       "      <th>4</th>\n",
       "      <td>2020-08-07</td>\n",
       "      <td>India</td>\n",
       "      <td>62538</td>\n",
       "    </tr>\n",
       "    <tr>\n",
       "      <th>5</th>\n",
       "      <td>2020-07-29</td>\n",
       "      <td>United States</td>\n",
       "      <td>61734</td>\n",
       "    </tr>\n",
       "    <tr>\n",
       "      <th>6</th>\n",
       "      <td>2020-08-07</td>\n",
       "      <td>United States</td>\n",
       "      <td>59755</td>\n",
       "    </tr>\n",
       "    <tr>\n",
       "      <th>7</th>\n",
       "      <td>2020-08-02</td>\n",
       "      <td>United States</td>\n",
       "      <td>58407</td>\n",
       "    </tr>\n",
       "    <tr>\n",
       "      <th>8</th>\n",
       "      <td>2020-07-31</td>\n",
       "      <td>Brazil</td>\n",
       "      <td>57837</td>\n",
       "    </tr>\n",
       "    <tr>\n",
       "      <th>9</th>\n",
       "      <td>2020-08-05</td>\n",
       "      <td>United States</td>\n",
       "      <td>57525</td>\n",
       "    </tr>\n",
       "  </tbody>\n",
       "</table>\n",
       "</div>"
      ],
      "text/plain": [
       "         date       location  new_cases\n",
       "0  2020-07-30  United States      74985\n",
       "1  2020-07-30         Brazil      69074\n",
       "2  2020-07-31  United States      68032\n",
       "3  2020-08-01  United States      67023\n",
       "4  2020-08-07          India      62538\n",
       "5  2020-07-29  United States      61734\n",
       "6  2020-08-07  United States      59755\n",
       "7  2020-08-02  United States      58407\n",
       "8  2020-07-31         Brazil      57837\n",
       "9  2020-08-05  United States      57525"
      ]
     },
     "execution_count": 42,
     "metadata": {},
     "output_type": "execute_result"
    }
   ],
   "source": [
    "# Next we need to select top 10 countries for each date\n",
    "# Step 3: create a new group based on date. \n",
    "# Step 4: select top 10 records from each group.\n",
    "top10_countries = grouped_data.groupby('date').head(10).reset_index()\n",
    "top10_countries"
   ]
  },
  {
   "cell_type": "code",
   "execution_count": 43,
   "metadata": {},
   "outputs": [
    {
     "data": {
      "text/html": [
       "<div>\n",
       "<style scoped>\n",
       "    .dataframe tbody tr th:only-of-type {\n",
       "        vertical-align: middle;\n",
       "    }\n",
       "\n",
       "    .dataframe tbody tr th {\n",
       "        vertical-align: top;\n",
       "    }\n",
       "\n",
       "    .dataframe thead th {\n",
       "        text-align: right;\n",
       "    }\n",
       "</style>\n",
       "<table border=\"1\" class=\"dataframe\">\n",
       "  <thead>\n",
       "    <tr style=\"text-align: right;\">\n",
       "      <th>location</th>\n",
       "      <th>Brazil</th>\n",
       "      <th>India</th>\n",
       "      <th>United States</th>\n",
       "    </tr>\n",
       "    <tr>\n",
       "      <th>date</th>\n",
       "      <th></th>\n",
       "      <th></th>\n",
       "      <th></th>\n",
       "    </tr>\n",
       "  </thead>\n",
       "  <tbody>\n",
       "    <tr>\n",
       "      <th>2020-07-29</th>\n",
       "      <td>NaN</td>\n",
       "      <td>NaN</td>\n",
       "      <td>61734.0</td>\n",
       "    </tr>\n",
       "    <tr>\n",
       "      <th>2020-07-30</th>\n",
       "      <td>69074.0</td>\n",
       "      <td>NaN</td>\n",
       "      <td>74985.0</td>\n",
       "    </tr>\n",
       "    <tr>\n",
       "      <th>2020-07-31</th>\n",
       "      <td>57837.0</td>\n",
       "      <td>NaN</td>\n",
       "      <td>68032.0</td>\n",
       "    </tr>\n",
       "    <tr>\n",
       "      <th>2020-08-01</th>\n",
       "      <td>NaN</td>\n",
       "      <td>NaN</td>\n",
       "      <td>67023.0</td>\n",
       "    </tr>\n",
       "    <tr>\n",
       "      <th>2020-08-02</th>\n",
       "      <td>NaN</td>\n",
       "      <td>NaN</td>\n",
       "      <td>58407.0</td>\n",
       "    </tr>\n",
       "  </tbody>\n",
       "</table>\n",
       "</div>"
      ],
      "text/plain": [
       "location     Brazil  India  United States\n",
       "date                                     \n",
       "2020-07-29      NaN    NaN        61734.0\n",
       "2020-07-30  69074.0    NaN        74985.0\n",
       "2020-07-31  57837.0    NaN        68032.0\n",
       "2020-08-01      NaN    NaN        67023.0\n",
       "2020-08-02      NaN    NaN        58407.0"
      ]
     },
     "execution_count": 43,
     "metadata": {},
     "output_type": "execute_result"
    }
   ],
   "source": [
    "# Step 5: pivoting data on date and location\n",
    "top10_countries_pivot = top10_countries.pivot(index='date', columns='location', values='new_cases')\n",
    "top10_countries_pivot.head()"
   ]
  },
  {
   "cell_type": "code",
   "execution_count": 44,
   "metadata": {},
   "outputs": [
    {
     "data": {
      "text/plain": [
       "<AxesSubplot:xlabel='location', ylabel='date'>"
      ]
     },
     "execution_count": 44,
     "metadata": {},
     "output_type": "execute_result"
    },
    {
     "data": {
      "image/png": "[encoded data removed]",
      "text/plain": [
       "<Figure size 432x288 with 2 Axes>"
      ]
     },
     "metadata": {
      "needs_background": "light"
     },
     "output_type": "display_data"
    }
   ],
   "source": [
    "# Step 6: plotting heatmap using Seaborn\n",
    "import seaborn as sns\n",
    "sns.heatmap(top10_countries_pivot, annot=True, fmt='.0f')"
   ]
  },
  {
   "cell_type": "code",
   "execution_count": 46,
   "metadata": {},
   "outputs": [
    {
     "data": {
      "text/html": [
       "<div>\n",
       "<style scoped>\n",
       "    .dataframe tbody tr th:only-of-type {\n",
       "        vertical-align: middle;\n",
       "    }\n",
       "\n",
       "    .dataframe tbody tr th {\n",
       "        vertical-align: top;\n",
       "    }\n",
       "\n",
       "    .dataframe thead th {\n",
       "        text-align: right;\n",
       "    }\n",
       "</style>\n",
       "<table border=\"1\" class=\"dataframe\">\n",
       "  <thead>\n",
       "    <tr style=\"text-align: right;\">\n",
       "      <th>continent</th>\n",
       "      <th>Africa</th>\n",
       "      <th>Asia</th>\n",
       "      <th>Europe</th>\n",
       "      <th>North America</th>\n",
       "      <th>Oceania</th>\n",
       "      <th>South America</th>\n",
       "    </tr>\n",
       "    <tr>\n",
       "      <th>date</th>\n",
       "      <th></th>\n",
       "      <th></th>\n",
       "      <th></th>\n",
       "      <th></th>\n",
       "      <th></th>\n",
       "      <th></th>\n",
       "    </tr>\n",
       "  </thead>\n",
       "  <tbody>\n",
       "    <tr>\n",
       "      <th>2019-12-31</th>\n",
       "      <td>0.0</td>\n",
       "      <td>27.0</td>\n",
       "      <td>0.0</td>\n",
       "      <td>0.0</td>\n",
       "      <td>0.0</td>\n",
       "      <td>0.0</td>\n",
       "    </tr>\n",
       "    <tr>\n",
       "      <th>2020-01-01</th>\n",
       "      <td>0.0</td>\n",
       "      <td>0.0</td>\n",
       "      <td>0.0</td>\n",
       "      <td>0.0</td>\n",
       "      <td>0.0</td>\n",
       "      <td>0.0</td>\n",
       "    </tr>\n",
       "    <tr>\n",
       "      <th>2020-01-02</th>\n",
       "      <td>0.0</td>\n",
       "      <td>0.0</td>\n",
       "      <td>0.0</td>\n",
       "      <td>0.0</td>\n",
       "      <td>0.0</td>\n",
       "      <td>0.0</td>\n",
       "    </tr>\n",
       "    <tr>\n",
       "      <th>2020-01-03</th>\n",
       "      <td>0.0</td>\n",
       "      <td>17.0</td>\n",
       "      <td>0.0</td>\n",
       "      <td>0.0</td>\n",
       "      <td>0.0</td>\n",
       "      <td>0.0</td>\n",
       "    </tr>\n",
       "    <tr>\n",
       "      <th>2020-01-04</th>\n",
       "      <td>0.0</td>\n",
       "      <td>0.0</td>\n",
       "      <td>0.0</td>\n",
       "      <td>0.0</td>\n",
       "      <td>0.0</td>\n",
       "      <td>0.0</td>\n",
       "    </tr>\n",
       "    <tr>\n",
       "      <th>...</th>\n",
       "      <td>...</td>\n",
       "      <td>...</td>\n",
       "      <td>...</td>\n",
       "      <td>...</td>\n",
       "      <td>...</td>\n",
       "      <td>...</td>\n",
       "    </tr>\n",
       "    <tr>\n",
       "      <th>2020-08-04</th>\n",
       "      <td>11366.0</td>\n",
       "      <td>75027.0</td>\n",
       "      <td>22854.0</td>\n",
       "      <td>54562.0</td>\n",
       "      <td>403.0</td>\n",
       "      <td>40567.0</td>\n",
       "    </tr>\n",
       "    <tr>\n",
       "      <th>2020-08-05</th>\n",
       "      <td>9548.0</td>\n",
       "      <td>80010.0</td>\n",
       "      <td>18247.0</td>\n",
       "      <td>69692.0</td>\n",
       "      <td>430.0</td>\n",
       "      <td>75732.0</td>\n",
       "    </tr>\n",
       "    <tr>\n",
       "      <th>2020-08-06</th>\n",
       "      <td>15661.0</td>\n",
       "      <td>83871.0</td>\n",
       "      <td>21542.0</td>\n",
       "      <td>64997.0</td>\n",
       "      <td>762.0</td>\n",
       "      <td>88016.0</td>\n",
       "    </tr>\n",
       "    <tr>\n",
       "      <th>2020-08-07</th>\n",
       "      <td>14678.0</td>\n",
       "      <td>89485.0</td>\n",
       "      <td>21206.0</td>\n",
       "      <td>71937.0</td>\n",
       "      <td>443.0</td>\n",
       "      <td>86348.0</td>\n",
       "    </tr>\n",
       "    <tr>\n",
       "      <th>2020-08-08</th>\n",
       "      <td>13318.0</td>\n",
       "      <td>88459.0</td>\n",
       "      <td>18319.0</td>\n",
       "      <td>71718.0</td>\n",
       "      <td>437.0</td>\n",
       "      <td>81882.0</td>\n",
       "    </tr>\n",
       "  </tbody>\n",
       "</table>\n",
       "<p>222 rows × 6 columns</p>\n",
       "</div>"
      ],
      "text/plain": [
       "continent    Africa     Asia   Europe  North America  Oceania  South America\n",
       "date                                                                        \n",
       "2019-12-31      0.0     27.0      0.0            0.0      0.0            0.0\n",
       "2020-01-01      0.0      0.0      0.0            0.0      0.0            0.0\n",
       "2020-01-02      0.0      0.0      0.0            0.0      0.0            0.0\n",
       "2020-01-03      0.0     17.0      0.0            0.0      0.0            0.0\n",
       "2020-01-04      0.0      0.0      0.0            0.0      0.0            0.0\n",
       "...             ...      ...      ...            ...      ...            ...\n",
       "2020-08-04  11366.0  75027.0  22854.0        54562.0    403.0        40567.0\n",
       "2020-08-05   9548.0  80010.0  18247.0        69692.0    430.0        75732.0\n",
       "2020-08-06  15661.0  83871.0  21542.0        64997.0    762.0        88016.0\n",
       "2020-08-07  14678.0  89485.0  21206.0        71937.0    443.0        86348.0\n",
       "2020-08-08  13318.0  88459.0  18319.0        71718.0    437.0        81882.0\n",
       "\n",
       "[222 rows x 6 columns]"
      ]
     },
     "execution_count": 46,
     "metadata": {},
     "output_type": "execute_result"
    }
   ],
   "source": [
    "# Creating a pivot table for continent\n",
    "# We do not need to select top 10 records here as we have only 6 continents\n",
    "# Notice the aggfunc below, it will actually sum the new_cases for each country in the continent.\n",
    "continent_pivot = data1.pivot_table(index='date',columns='continent', values='new_cases', aggfunc='sum')\n",
    "continent_pivot"
   ]
  },
  {
   "cell_type": "code",
   "execution_count": 47,
   "metadata": {},
   "outputs": [
    {
     "data": {
      "text/plain": [
       "date\n",
       "2020-07-29    United States\n",
       "2020-07-30    United States\n",
       "2020-07-31    United States\n",
       "2020-08-01    United States\n",
       "2020-08-02    United States\n",
       "2020-08-05    United States\n",
       "2020-08-07            India\n",
       "dtype: object"
      ]
     },
     "execution_count": 47,
     "metadata": {},
     "output_type": "execute_result"
    }
   ],
   "source": [
    "# find country with maximum cases \n",
    "# axis=1 to find max in the row, default is column\n",
    "top10_countries_pivot.idxmax(axis=1)"
   ]
  },
  {
   "cell_type": "code",
   "execution_count": 48,
   "metadata": {},
   "outputs": [
    {
     "data": {
      "text/plain": [
       "date\n",
       "2020-07-29    United States\n",
       "2020-07-30           Brazil\n",
       "2020-07-31           Brazil\n",
       "2020-08-01    United States\n",
       "2020-08-02    United States\n",
       "2020-08-05    United States\n",
       "2020-08-07    United States\n",
       "dtype: object"
      ]
     },
     "execution_count": 48,
     "metadata": {},
     "output_type": "execute_result"
    }
   ],
   "source": [
    "# find country with minimum cases\n",
    "# axis=1 to find max in the row, default is column\n",
    "top10_countries_pivot.idxmin(axis=1)"
   ]
  },
  {
   "cell_type": "code",
   "execution_count": 50,
   "metadata": {},
   "outputs": [
    {
     "data": {
      "text/plain": [
       "array([('Africa', 'Algeria', '2019-12-31'),\n",
       "       ('Africa', 'Algeria', '2020-01-01'),\n",
       "       ('Africa', 'Algeria', '2020-01-02'), ...,\n",
       "       (nan, 'World', '2020-08-06'), (nan, 'World', '2020-08-07'),\n",
       "       (nan, 'World', '2020-08-08')], dtype=object)"
      ]
     },
     "execution_count": 50,
     "metadata": {},
     "output_type": "execute_result"
    }
   ],
   "source": [
    "# Creating Index on continent, location and date\n",
    "# The index will be created in the order supplied\n",
    "indexed_data = data1.set_index(['continent','location','date']).sort_index()\n",
    "# values of the index\n",
    "indexed_data.index.values"
   ]
  },
  {
   "cell_type": "code",
   "execution_count": 53,
   "metadata": {},
   "outputs": [
    {
     "data": {
      "text/plain": [
       "iso_code                                  DZA\n",
       "total_cases                                 0\n",
       "new_cases                                   0\n",
       "total_deaths                                0\n",
       "new_deaths                                  0\n",
       "total_cases_per_million                     0\n",
       "new_cases_per_million                       0\n",
       "total_deaths_per_million                    0\n",
       "new_deaths_per_million                      0\n",
       "new_tests                                 NaN\n",
       "total_tests                               NaN\n",
       "total_tests_per_thousand                  NaN\n",
       "new_tests_per_thousand                    NaN\n",
       "new_tests_smoothed                        NaN\n",
       "new_tests_smoothed_per_thousand           NaN\n",
       "tests_per_case                            NaN\n",
       "positive_rate                             NaN\n",
       "tests_units                               NaN\n",
       "stringency_index                          NaN\n",
       "population                         4.3851e+07\n",
       "population_density                     17.348\n",
       "median_age                               29.1\n",
       "aged_65_older                           6.211\n",
       "aged_70_older                           3.857\n",
       "gdp_per_capita                        13913.8\n",
       "extreme_poverty                           0.5\n",
       "cardiovasc_death_rate                 278.364\n",
       "diabetes_prevalence                      6.73\n",
       "female_smokers                            0.7\n",
       "male_smokers                             30.4\n",
       "handwashing_facilities                 83.741\n",
       "hospital_beds_per_thousand                1.9\n",
       "life_expectancy                         76.88\n",
       "Name: (Africa, Algeria, 2019-12-31), dtype: object"
      ]
     },
     "execution_count": 53,
     "metadata": {},
     "output_type": "execute_result"
    }
   ],
   "source": [
    "indexed_data.loc[('Africa', 'Algeria', '2019-12-31')]"
   ]
  },
  {
   "cell_type": "code",
   "execution_count": 54,
   "metadata": {},
   "outputs": [
    {
     "data": {
      "text/plain": [
       "59755.0"
      ]
     },
     "execution_count": 54,
     "metadata": {},
     "output_type": "execute_result"
    }
   ],
   "source": [
    "indexed_data.loc[('North America','United States','2020-08-07'),'new_cases']"
   ]
  },
  {
   "cell_type": "code",
   "execution_count": 55,
   "metadata": {},
   "outputs": [
    {
     "data": {
      "text/plain": [
       "continent  location              date      \n",
       "Asia       Afghanistan           2020-08-07       41.0\n",
       "           Armenia               2020-08-07      233.0\n",
       "           Azerbaijan            2020-08-07      144.0\n",
       "           Bahrain               2020-08-07      375.0\n",
       "           Bangladesh            2020-08-07     2977.0\n",
       "           Bhutan                2020-08-07        3.0\n",
       "           Brunei                2020-08-07        0.0\n",
       "           Cambodia              2020-08-07        0.0\n",
       "           China                 2020-08-07      132.0\n",
       "           Georgia               2020-08-07        0.0\n",
       "           India                 2020-08-07    62538.0\n",
       "           Indonesia             2020-08-07     1882.0\n",
       "           Iran                  2020-08-07     2634.0\n",
       "           Iraq                  2020-08-07     3047.0\n",
       "           Israel                2020-08-07     1730.0\n",
       "           Japan                 2020-08-07     1552.0\n",
       "           Jordan                2020-08-07        1.0\n",
       "           Kazakhstan            2020-08-07      980.0\n",
       "           Kuwait                2020-08-07      620.0\n",
       "           Kyrgyzstan            2020-08-07      503.0\n",
       "           Laos                  2020-08-07        0.0\n",
       "           Lebanon               2020-08-07      255.0\n",
       "           Malaysia              2020-08-07       15.0\n",
       "           Maldives              2020-08-07       86.0\n",
       "           Mongolia              2020-08-07        0.0\n",
       "           Myanmar               2020-08-07        2.0\n",
       "           Nepal                 2020-08-07      360.0\n",
       "           Oman                  2020-08-07      427.0\n",
       "           Pakistan              2020-08-07      782.0\n",
       "           Palestine             2020-08-07      453.0\n",
       "           Philippines           2020-08-07     3480.0\n",
       "           Qatar                 2020-08-07      287.0\n",
       "           Saudi Arabia          2020-08-07     1402.0\n",
       "           Singapore             2020-08-07      301.0\n",
       "           South Korea           2020-08-07       20.0\n",
       "           Sri Lanka             2020-08-07        0.0\n",
       "           Syria                 2020-08-07        0.0\n",
       "           Taiwan                2020-08-07        0.0\n",
       "           Tajikistan            2020-08-07       40.0\n",
       "           Thailand              2020-08-07       15.0\n",
       "           Timor                 2020-08-07        0.0\n",
       "           Turkey                2020-08-07     1153.0\n",
       "           United Arab Emirates  2020-08-07      239.0\n",
       "           Uzbekistan            2020-08-07      740.0\n",
       "           Vietnam               2020-08-07       33.0\n",
       "           Yemen                 2020-08-07        3.0\n",
       "Name: new_cases, dtype: float64"
      ]
     },
     "execution_count": 55,
     "metadata": {},
     "output_type": "execute_result"
    }
   ],
   "source": [
    "indexed_data.loc[('Asia',slice(None),'2020-08-07'),'new_cases']"
   ]
  },
  {
   "cell_type": "code",
   "execution_count": 61,
   "metadata": {},
   "outputs": [
    {
     "data": {
      "text/plain": [
       "continent      location       date      \n",
       "Asia           India          2020-08-06    56282.0\n",
       "                              2020-08-07    62538.0\n",
       "North America  United States  2020-08-06    52804.0\n",
       "                              2020-08-07    59755.0\n",
       "Name: new_cases, dtype: float64"
      ]
     },
     "execution_count": 61,
     "metadata": {},
     "output_type": "execute_result"
    }
   ],
   "source": [
    "indexed_data.loc[(slice(None),['India','United States'],['2020-08-06','2020-08-07']),'new_cases']"
   ]
  },
  {
   "cell_type": "code",
   "execution_count": 63,
   "metadata": {},
   "outputs": [
    {
     "data": {
      "text/html": [
       "<div>\n",
       "<style scoped>\n",
       "    .dataframe tbody tr th:only-of-type {\n",
       "        vertical-align: middle;\n",
       "    }\n",
       "\n",
       "    .dataframe tbody tr th {\n",
       "        vertical-align: top;\n",
       "    }\n",
       "\n",
       "    .dataframe thead tr th {\n",
       "        text-align: left;\n",
       "    }\n",
       "\n",
       "    .dataframe thead tr:last-of-type th {\n",
       "        text-align: right;\n",
       "    }\n",
       "</style>\n",
       "<table border=\"1\" class=\"dataframe\">\n",
       "  <thead>\n",
       "    <tr>\n",
       "      <th></th>\n",
       "      <th colspan=\"3\" halign=\"left\">new_cases</th>\n",
       "    </tr>\n",
       "    <tr>\n",
       "      <th></th>\n",
       "      <th>sum</th>\n",
       "      <th>max</th>\n",
       "      <th>min</th>\n",
       "    </tr>\n",
       "    <tr>\n",
       "      <th>date</th>\n",
       "      <th></th>\n",
       "      <th></th>\n",
       "      <th></th>\n",
       "    </tr>\n",
       "  </thead>\n",
       "  <tbody>\n",
       "    <tr>\n",
       "      <th>2020-07-29</th>\n",
       "      <td>61734</td>\n",
       "      <td>61734</td>\n",
       "      <td>61734</td>\n",
       "    </tr>\n",
       "    <tr>\n",
       "      <th>2020-07-30</th>\n",
       "      <td>144059</td>\n",
       "      <td>74985</td>\n",
       "      <td>69074</td>\n",
       "    </tr>\n",
       "    <tr>\n",
       "      <th>2020-07-31</th>\n",
       "      <td>125869</td>\n",
       "      <td>68032</td>\n",
       "      <td>57837</td>\n",
       "    </tr>\n",
       "    <tr>\n",
       "      <th>2020-08-01</th>\n",
       "      <td>67023</td>\n",
       "      <td>67023</td>\n",
       "      <td>67023</td>\n",
       "    </tr>\n",
       "    <tr>\n",
       "      <th>2020-08-02</th>\n",
       "      <td>58407</td>\n",
       "      <td>58407</td>\n",
       "      <td>58407</td>\n",
       "    </tr>\n",
       "    <tr>\n",
       "      <th>2020-08-05</th>\n",
       "      <td>57525</td>\n",
       "      <td>57525</td>\n",
       "      <td>57525</td>\n",
       "    </tr>\n",
       "    <tr>\n",
       "      <th>2020-08-07</th>\n",
       "      <td>122293</td>\n",
       "      <td>62538</td>\n",
       "      <td>59755</td>\n",
       "    </tr>\n",
       "  </tbody>\n",
       "</table>\n",
       "</div>"
      ],
      "text/plain": [
       "           new_cases              \n",
       "                 sum    max    min\n",
       "date                              \n",
       "2020-07-29     61734  61734  61734\n",
       "2020-07-30    144059  74985  69074\n",
       "2020-07-31    125869  68032  57837\n",
       "2020-08-01     67023  67023  67023\n",
       "2020-08-02     58407  58407  58407\n",
       "2020-08-05     57525  57525  57525\n",
       "2020-08-07    122293  62538  59755"
      ]
     },
     "execution_count": 63,
     "metadata": {},
     "output_type": "execute_result"
    }
   ],
   "source": [
    "# multiple aggregations on new_cases\n",
    "grouped_data = data.groupby('date').agg({'new_cases':['sum','max','min']})\n",
    "grouped_data"
   ]
  },
  {
   "cell_type": "code",
   "execution_count": 64,
   "metadata": {},
   "outputs": [
    {
     "data": {
      "text/plain": [
       "MultiIndex([('new_cases', 'sum'),\n",
       "            ('new_cases', 'max'),\n",
       "            ('new_cases', 'min')],\n",
       "           )"
      ]
     },
     "execution_count": 64,
     "metadata": {},
     "output_type": "execute_result"
    }
   ],
   "source": [
    "# columns in grouped data\n",
    "grouped_data.columns"
   ]
  },
  {
   "cell_type": "code",
   "execution_count": 65,
   "metadata": {},
   "outputs": [
    {
     "data": {
      "text/plain": [
       "['new_cases_sum', 'new_cases_max', 'new_cases_min']"
      ]
     },
     "execution_count": 65,
     "metadata": {},
     "output_type": "execute_result"
    }
   ],
   "source": [
    "# here are we just joining the tuple with '_'\n",
    "# this works for level-2 column indexes only\n",
    "new_columns = ['%s%s' % (a, '_%s' % b if b else '') for a, b in grouped_data.columns]\n",
    "new_columns"
   ]
  },
  {
   "cell_type": "code",
   "execution_count": 67,
   "metadata": {},
   "outputs": [
    {
     "data": {
      "text/html": [
       "<div>\n",
       "<style scoped>\n",
       "    .dataframe tbody tr th:only-of-type {\n",
       "        vertical-align: middle;\n",
       "    }\n",
       "\n",
       "    .dataframe tbody tr th {\n",
       "        vertical-align: top;\n",
       "    }\n",
       "\n",
       "    .dataframe thead th {\n",
       "        text-align: right;\n",
       "    }\n",
       "</style>\n",
       "<table border=\"1\" class=\"dataframe\">\n",
       "  <thead>\n",
       "    <tr style=\"text-align: right;\">\n",
       "      <th></th>\n",
       "      <th>new_cases_sum</th>\n",
       "      <th>new_cases_max</th>\n",
       "      <th>new_cases_min</th>\n",
       "    </tr>\n",
       "    <tr>\n",
       "      <th>date</th>\n",
       "      <th></th>\n",
       "      <th></th>\n",
       "      <th></th>\n",
       "    </tr>\n",
       "  </thead>\n",
       "  <tbody>\n",
       "    <tr>\n",
       "      <th>2020-07-29</th>\n",
       "      <td>61734</td>\n",
       "      <td>61734</td>\n",
       "      <td>61734</td>\n",
       "    </tr>\n",
       "    <tr>\n",
       "      <th>2020-07-30</th>\n",
       "      <td>144059</td>\n",
       "      <td>74985</td>\n",
       "      <td>69074</td>\n",
       "    </tr>\n",
       "    <tr>\n",
       "      <th>2020-07-31</th>\n",
       "      <td>125869</td>\n",
       "      <td>68032</td>\n",
       "      <td>57837</td>\n",
       "    </tr>\n",
       "    <tr>\n",
       "      <th>2020-08-01</th>\n",
       "      <td>67023</td>\n",
       "      <td>67023</td>\n",
       "      <td>67023</td>\n",
       "    </tr>\n",
       "    <tr>\n",
       "      <th>2020-08-02</th>\n",
       "      <td>58407</td>\n",
       "      <td>58407</td>\n",
       "      <td>58407</td>\n",
       "    </tr>\n",
       "    <tr>\n",
       "      <th>2020-08-05</th>\n",
       "      <td>57525</td>\n",
       "      <td>57525</td>\n",
       "      <td>57525</td>\n",
       "    </tr>\n",
       "    <tr>\n",
       "      <th>2020-08-07</th>\n",
       "      <td>122293</td>\n",
       "      <td>62538</td>\n",
       "      <td>59755</td>\n",
       "    </tr>\n",
       "  </tbody>\n",
       "</table>\n",
       "</div>"
      ],
      "text/plain": [
       "            new_cases_sum  new_cases_max  new_cases_min\n",
       "date                                                   \n",
       "2020-07-29          61734          61734          61734\n",
       "2020-07-30         144059          74985          69074\n",
       "2020-07-31         125869          68032          57837\n",
       "2020-08-01          67023          67023          67023\n",
       "2020-08-02          58407          58407          58407\n",
       "2020-08-05          57525          57525          57525\n",
       "2020-08-07         122293          62538          59755"
      ]
     },
     "execution_count": 67,
     "metadata": {},
     "output_type": "execute_result"
    }
   ],
   "source": [
    "# change grouped_data columns.\n",
    "grouped_data.columns = new_columns\n",
    "grouped_data"
   ]
  },
  {
   "cell_type": "code",
   "execution_count": null,
   "metadata": {},
   "outputs": [],
   "source": []
  }
 ],
 "metadata": {
  "kernelspec": {
   "display_name": "Python 3",
   "language": "python",
   "name": "python3"
  },
  "language_info": {
   "codemirror_mode": {
    "name": "ipython",
    "version": 3
   },
   "file_extension": ".py",
   "mimetype": "text/x-python",
   "name": "python",
   "nbconvert_exporter": "python",
   "pygments_lexer": "ipython3",
   "version": "3.7.9"
  }
 },
 "nbformat": 4,
 "nbformat_minor": 4
}
