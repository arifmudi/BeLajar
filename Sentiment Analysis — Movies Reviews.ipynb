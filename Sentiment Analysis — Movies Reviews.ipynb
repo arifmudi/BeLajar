{
 "cells": [
  {
   "cell_type": "code",
   "execution_count": 1,
   "metadata": {},
   "outputs": [
    {
     "data": {
      "text/html": [
       "<div>\n",
       "<style scoped>\n",
       "    .dataframe tbody tr th:only-of-type {\n",
       "        vertical-align: middle;\n",
       "    }\n",
       "\n",
       "    .dataframe tbody tr th {\n",
       "        vertical-align: top;\n",
       "    }\n",
       "\n",
       "    .dataframe thead th {\n",
       "        text-align: right;\n",
       "    }\n",
       "</style>\n",
       "<table border=\"1\" class=\"dataframe\">\n",
       "  <thead>\n",
       "    <tr style=\"text-align: right;\">\n",
       "      <th></th>\n",
       "      <th>review</th>\n",
       "      <th>sentiment</th>\n",
       "    </tr>\n",
       "  </thead>\n",
       "  <tbody>\n",
       "    <tr>\n",
       "      <th>0</th>\n",
       "      <td>One of the other reviewers has mentioned that ...</td>\n",
       "      <td>positive</td>\n",
       "    </tr>\n",
       "    <tr>\n",
       "      <th>1</th>\n",
       "      <td>A wonderful little production. &lt;br /&gt;&lt;br /&gt;The...</td>\n",
       "      <td>positive</td>\n",
       "    </tr>\n",
       "    <tr>\n",
       "      <th>2</th>\n",
       "      <td>I thought this was a wonderful way to spend ti...</td>\n",
       "      <td>positive</td>\n",
       "    </tr>\n",
       "    <tr>\n",
       "      <th>3</th>\n",
       "      <td>Basically there's a family where a little boy ...</td>\n",
       "      <td>negative</td>\n",
       "    </tr>\n",
       "    <tr>\n",
       "      <th>4</th>\n",
       "      <td>Petter Mattei's \"Love in the Time of Money\" is...</td>\n",
       "      <td>positive</td>\n",
       "    </tr>\n",
       "  </tbody>\n",
       "</table>\n",
       "</div>"
      ],
      "text/plain": [
       "                                              review sentiment\n",
       "0  One of the other reviewers has mentioned that ...  positive\n",
       "1  A wonderful little production. <br /><br />The...  positive\n",
       "2  I thought this was a wonderful way to spend ti...  positive\n",
       "3  Basically there's a family where a little boy ...  negative\n",
       "4  Petter Mattei's \"Love in the Time of Money\" is...  positive"
      ]
     },
     "execution_count": 1,
     "metadata": {},
     "output_type": "execute_result"
    }
   ],
   "source": [
    "import pandas as pd\n",
    "import numpy as np\n",
    "df = pd.read_csv('IMDB Dataset.csv')\n",
    "df['sentiment'].value_counts()\n",
    "df.head(5)"
   ]
  },
  {
   "cell_type": "code",
   "execution_count": 2,
   "metadata": {},
   "outputs": [],
   "source": [
    "from sklearn.model_selection import train_test_split\n",
    "train, test = train_test_split(df)"
   ]
  },
  {
   "cell_type": "code",
   "execution_count": 3,
   "metadata": {},
   "outputs": [
    {
     "name": "stderr",
     "output_type": "stream",
     "text": [
      "D:\\InstallWindows\\anaconda3\\lib\\site-packages\\ipykernel_launcher.py:4: SettingWithCopyWarning: \n",
      "A value is trying to be set on a copy of a slice from a DataFrame.\n",
      "Try using .loc[row_indexer,col_indexer] = value instead\n",
      "\n",
      "See the caveats in the documentation: https://pandas.pydata.org/pandas-docs/stable/user_guide/indexing.html#returning-a-view-versus-a-copy\n",
      "  after removing the cwd from sys.path.\n",
      "D:\\InstallWindows\\anaconda3\\lib\\site-packages\\ipykernel_launcher.py:5: SettingWithCopyWarning: \n",
      "A value is trying to be set on a copy of a slice from a DataFrame.\n",
      "Try using .loc[row_indexer,col_indexer] = value instead\n",
      "\n",
      "See the caveats in the documentation: https://pandas.pydata.org/pandas-docs/stable/user_guide/indexing.html#returning-a-view-versus-a-copy\n",
      "  \"\"\"\n"
     ]
    }
   ],
   "source": [
    "# 2.1 Turn sentiment into categorical value\n",
    "from sklearn.preprocessing import LabelEncoder\n",
    "labelencoder = LabelEncoder()\n",
    "train['sentiment'] = labelencoder.fit_transform(train['sentiment'])\n",
    "test['sentiment'] = labelencoder.fit_transform(test['sentiment'])"
   ]
  },
  {
   "cell_type": "code",
   "execution_count": 4,
   "metadata": {},
   "outputs": [
    {
     "name": "stderr",
     "output_type": "stream",
     "text": [
      "D:\\InstallWindows\\anaconda3\\lib\\site-packages\\ipykernel_launcher.py:10: SettingWithCopyWarning: \n",
      "A value is trying to be set on a copy of a slice from a DataFrame.\n",
      "Try using .loc[row_indexer,col_indexer] = value instead\n",
      "\n",
      "See the caveats in the documentation: https://pandas.pydata.org/pandas-docs/stable/user_guide/indexing.html#returning-a-view-versus-a-copy\n",
      "  # Remove the CWD from sys.path while we load stuff.\n",
      "D:\\InstallWindows\\anaconda3\\lib\\site-packages\\ipykernel_launcher.py:11: SettingWithCopyWarning: \n",
      "A value is trying to be set on a copy of a slice from a DataFrame.\n",
      "Try using .loc[row_indexer,col_indexer] = value instead\n",
      "\n",
      "See the caveats in the documentation: https://pandas.pydata.org/pandas-docs/stable/user_guide/indexing.html#returning-a-view-versus-a-copy\n",
      "  # This is added back by InteractiveShellApp.init_path()\n",
      "D:\\InstallWindows\\anaconda3\\lib\\site-packages\\ipykernel_launcher.py:15: SettingWithCopyWarning: \n",
      "A value is trying to be set on a copy of a slice from a DataFrame.\n",
      "Try using .loc[row_indexer,col_indexer] = value instead\n",
      "\n",
      "See the caveats in the documentation: https://pandas.pydata.org/pandas-docs/stable/user_guide/indexing.html#returning-a-view-versus-a-copy\n",
      "  from ipykernel import kernelapp as app\n",
      "D:\\InstallWindows\\anaconda3\\lib\\site-packages\\ipykernel_launcher.py:16: SettingWithCopyWarning: \n",
      "A value is trying to be set on a copy of a slice from a DataFrame.\n",
      "Try using .loc[row_indexer,col_indexer] = value instead\n",
      "\n",
      "See the caveats in the documentation: https://pandas.pydata.org/pandas-docs/stable/user_guide/indexing.html#returning-a-view-versus-a-copy\n",
      "  app.launch_new_instance()\n"
     ]
    }
   ],
   "source": [
    "# 2.2 Remove none text and special character\n",
    "import re\n",
    "import string\n",
    "pattern = re.compile(r'<br\\s*/><br\\s*/>>*|(\\-)|(\\\\)|(\\/)')\n",
    "def preprocess_reviews(reviews):\n",
    "    reviews = [pattern.sub(\" \",item) for item in reviews]\n",
    "    return reviews\n",
    "train_clean = preprocess_reviews(train['review'])\n",
    "test_clean = preprocess_reviews(test['review'])\n",
    "train['review'] = train_clean\n",
    "test['review'] = test_clean\n",
    "def remove_punctuation(input):\n",
    "    table = str.maketrans('','',string.punctuation)\n",
    "    return input.translate(table)\n",
    "train['review'] = train['review'].apply(remove_punctuation)\n",
    "test['review'] = test['review'].apply(remove_punctuation)"
   ]
  },
  {
   "cell_type": "code",
   "execution_count": 5,
   "metadata": {},
   "outputs": [
    {
     "name": "stderr",
     "output_type": "stream",
     "text": [
      "D:\\InstallWindows\\anaconda3\\lib\\site-packages\\ipykernel_launcher.py:2: SettingWithCopyWarning: \n",
      "A value is trying to be set on a copy of a slice from a DataFrame.\n",
      "Try using .loc[row_indexer,col_indexer] = value instead\n",
      "\n",
      "See the caveats in the documentation: https://pandas.pydata.org/pandas-docs/stable/user_guide/indexing.html#returning-a-view-versus-a-copy\n",
      "  \n",
      "D:\\InstallWindows\\anaconda3\\lib\\site-packages\\ipykernel_launcher.py:3: SettingWithCopyWarning: \n",
      "A value is trying to be set on a copy of a slice from a DataFrame.\n",
      "Try using .loc[row_indexer,col_indexer] = value instead\n",
      "\n",
      "See the caveats in the documentation: https://pandas.pydata.org/pandas-docs/stable/user_guide/indexing.html#returning-a-view-versus-a-copy\n",
      "  This is separate from the ipykernel package so we can avoid doing imports until\n"
     ]
    }
   ],
   "source": [
    "# 2.3 Convert all text to lowercase\n",
    "train['review'] = train['review'].str.lower()\n",
    "test['review'] = test['review'].str.lower()"
   ]
  },
  {
   "cell_type": "code",
   "execution_count": 6,
   "metadata": {},
   "outputs": [
    {
     "name": "stderr",
     "output_type": "stream",
     "text": [
      "D:\\InstallWindows\\anaconda3\\lib\\site-packages\\ipykernel_launcher.py:5: SettingWithCopyWarning: \n",
      "A value is trying to be set on a copy of a slice from a DataFrame.\n",
      "Try using .loc[row_indexer,col_indexer] = value instead\n",
      "\n",
      "See the caveats in the documentation: https://pandas.pydata.org/pandas-docs/stable/user_guide/indexing.html#returning-a-view-versus-a-copy\n",
      "  \"\"\"\n",
      "D:\\InstallWindows\\anaconda3\\lib\\site-packages\\ipykernel_launcher.py:6: SettingWithCopyWarning: \n",
      "A value is trying to be set on a copy of a slice from a DataFrame.\n",
      "Try using .loc[row_indexer,col_indexer] = value instead\n",
      "\n",
      "See the caveats in the documentation: https://pandas.pydata.org/pandas-docs/stable/user_guide/indexing.html#returning-a-view-versus-a-copy\n",
      "  \n"
     ]
    }
   ],
   "source": [
    "# 2.4 Remove line breaks\n",
    "def remove_linebreaks(input):\n",
    "    text = re.compile(r'\\n')\n",
    "    return text.sub(r' ',input)\n",
    "train['review'] = train['review'].apply(remove_linebreaks)\n",
    "test['review'] = test['review'].apply(remove_linebreaks)"
   ]
  },
  {
   "cell_type": "code",
   "execution_count": 7,
   "metadata": {},
   "outputs": [
    {
     "name": "stderr",
     "output_type": "stream",
     "text": [
      "D:\\InstallWindows\\anaconda3\\lib\\site-packages\\ipykernel_launcher.py:3: SettingWithCopyWarning: \n",
      "A value is trying to be set on a copy of a slice from a DataFrame.\n",
      "Try using .loc[row_indexer,col_indexer] = value instead\n",
      "\n",
      "See the caveats in the documentation: https://pandas.pydata.org/pandas-docs/stable/user_guide/indexing.html#returning-a-view-versus-a-copy\n",
      "  This is separate from the ipykernel package so we can avoid doing imports until\n",
      "D:\\InstallWindows\\anaconda3\\lib\\site-packages\\ipykernel_launcher.py:4: SettingWithCopyWarning: \n",
      "A value is trying to be set on a copy of a slice from a DataFrame.\n",
      "Try using .loc[row_indexer,col_indexer] = value instead\n",
      "\n",
      "See the caveats in the documentation: https://pandas.pydata.org/pandas-docs/stable/user_guide/indexing.html#returning-a-view-versus-a-copy\n",
      "  after removing the cwd from sys.path.\n"
     ]
    }
   ],
   "source": [
    "# 2.5 Tokenization\n",
    "from nltk.tokenize import word_tokenize\n",
    "train['review'] = train['review'].apply(word_tokenize)\n",
    "test['review'] = test['review'].apply(word_tokenize)"
   ]
  },
  {
   "cell_type": "code",
   "execution_count": 8,
   "metadata": {},
   "outputs": [
    {
     "name": "stderr",
     "output_type": "stream",
     "text": [
      "D:\\InstallWindows\\anaconda3\\lib\\site-packages\\ipykernel_launcher.py:9: SettingWithCopyWarning: \n",
      "A value is trying to be set on a copy of a slice from a DataFrame.\n",
      "Try using .loc[row_indexer,col_indexer] = value instead\n",
      "\n",
      "See the caveats in the documentation: https://pandas.pydata.org/pandas-docs/stable/user_guide/indexing.html#returning-a-view-versus-a-copy\n",
      "  if __name__ == '__main__':\n",
      "D:\\InstallWindows\\anaconda3\\lib\\site-packages\\ipykernel_launcher.py:10: SettingWithCopyWarning: \n",
      "A value is trying to be set on a copy of a slice from a DataFrame.\n",
      "Try using .loc[row_indexer,col_indexer] = value instead\n",
      "\n",
      "See the caveats in the documentation: https://pandas.pydata.org/pandas-docs/stable/user_guide/indexing.html#returning-a-view-versus-a-copy\n",
      "  # Remove the CWD from sys.path while we load stuff.\n"
     ]
    }
   ],
   "source": [
    "# 2.6 Remove stopword\n",
    "from nltk.corpus import stopwords\n",
    "def remove_stopwords(input1):\n",
    "    words = []\n",
    "    for word in input1:\n",
    "        if word not in stopwords.words('english'):\n",
    "            words.append(word)\n",
    "    return words\n",
    "train['review'] = train['review'].apply(remove_stopwords)\n",
    "test['review'] = test['review'].apply(remove_stopwords)"
   ]
  },
  {
   "cell_type": "code",
   "execution_count": 9,
   "metadata": {},
   "outputs": [
    {
     "name": "stderr",
     "output_type": "stream",
     "text": [
      "D:\\InstallWindows\\anaconda3\\lib\\site-packages\\ipykernel_launcher.py:6: SettingWithCopyWarning: \n",
      "A value is trying to be set on a copy of a slice from a DataFrame.\n",
      "Try using .loc[row_indexer,col_indexer] = value instead\n",
      "\n",
      "See the caveats in the documentation: https://pandas.pydata.org/pandas-docs/stable/user_guide/indexing.html#returning-a-view-versus-a-copy\n",
      "  \n",
      "D:\\InstallWindows\\anaconda3\\lib\\site-packages\\ipykernel_launcher.py:7: SettingWithCopyWarning: \n",
      "A value is trying to be set on a copy of a slice from a DataFrame.\n",
      "Try using .loc[row_indexer,col_indexer] = value instead\n",
      "\n",
      "See the caveats in the documentation: https://pandas.pydata.org/pandas-docs/stable/user_guide/indexing.html#returning-a-view-versus-a-copy\n",
      "  import sys\n"
     ]
    }
   ],
   "source": [
    "# 2.7 Lemmatization\n",
    "from nltk.stem import WordNetLemmatizer\n",
    "lem = WordNetLemmatizer()\n",
    "def lemma_wordnet(input):\n",
    "    return [lem.lemmatize(w) for w in input]\n",
    "train['review'] = train['review'].apply(lemma_wordnet)\n",
    "test['review'] = test['review'].apply(lemma_wordnet)"
   ]
  },
  {
   "cell_type": "code",
   "execution_count": 10,
   "metadata": {},
   "outputs": [
    {
     "name": "stderr",
     "output_type": "stream",
     "text": [
      "D:\\InstallWindows\\anaconda3\\lib\\site-packages\\ipykernel_launcher.py:5: SettingWithCopyWarning: \n",
      "A value is trying to be set on a copy of a slice from a DataFrame.\n",
      "Try using .loc[row_indexer,col_indexer] = value instead\n",
      "\n",
      "See the caveats in the documentation: https://pandas.pydata.org/pandas-docs/stable/user_guide/indexing.html#returning-a-view-versus-a-copy\n",
      "  \"\"\"\n",
      "D:\\InstallWindows\\anaconda3\\lib\\site-packages\\ipykernel_launcher.py:6: SettingWithCopyWarning: \n",
      "A value is trying to be set on a copy of a slice from a DataFrame.\n",
      "Try using .loc[row_indexer,col_indexer] = value instead\n",
      "\n",
      "See the caveats in the documentation: https://pandas.pydata.org/pandas-docs/stable/user_guide/indexing.html#returning-a-view-versus-a-copy\n",
      "  \n"
     ]
    }
   ],
   "source": [
    "# 2.8 Combine individual words\n",
    "def combine_text(input):\n",
    "    combined = ' '.join(input)\n",
    "    return combined\n",
    "train['review'] = train['review'].apply(combine_text)\n",
    "test['review'] = test['review'].apply(combine_text)"
   ]
  },
  {
   "cell_type": "code",
   "execution_count": 11,
   "metadata": {},
   "outputs": [],
   "source": [
    "# 3.1 Bag of words\n",
    "from sklearn.feature_extraction.text import CountVectorizer\n",
    "cv = CountVectorizer(binary=True)\n",
    "cv.fit(train)\n",
    "X_train_bow = cv.fit_transform(train['review'])\n",
    "X_test_bow = train['sentiment']\n",
    "Y_train_bow = cv.transform(test['review'])\n",
    "Y_test = test['sentiment']"
   ]
  },
  {
   "cell_type": "code",
   "execution_count": 12,
   "metadata": {},
   "outputs": [],
   "source": [
    "# 3.2 TF-IDF\n",
    "from sklearn.feature_extraction.text import TfidfVectorizer\n",
    "vectorizer = TfidfVectorizer(norm = None)\n",
    "vectorizer.fit(train)\n",
    "X_train_tfidf = vectorizer.fit_transform(train['review'])\n",
    "X_test_tfidf = train['sentiment']\n",
    "Y_train_tdidf =vectorizer.transform(test['review'])"
   ]
  },
  {
   "cell_type": "code",
   "execution_count": 13,
   "metadata": {},
   "outputs": [],
   "source": [
    "# 3.3 Hashing\n",
    "from sklearn.feature_extraction.text import HashingVectorizer\n",
    "hv = HashingVectorizer()\n",
    "hv.fit(train)\n",
    "X_train_hash = hv.fit_transform(train['review'])\n",
    "X_test_hash = train['sentiment']\n",
    "Y_train_hash = hv.transform(test['review'])"
   ]
  },
  {
   "cell_type": "code",
   "execution_count": 14,
   "metadata": {},
   "outputs": [
    {
     "name": "stdout",
     "output_type": "stream",
     "text": [
      "alpha:  80.0\n",
      "[0.88011696 0.87651715 0.88725361 0.88203648 0.88368421]\n",
      "0.8819216823610248\n",
      "\n",
      "\n",
      "alpha:  90.0\n",
      "[0.88130643 0.87762376 0.8874294  0.88183607 0.88406369]\n",
      "0.882451868708233\n",
      "\n",
      "\n",
      "alpha:  100.0\n",
      "[0.88065844 0.87889182 0.88798424 0.8834163  0.88427144]\n",
      "0.8830444460058289\n",
      "\n",
      "\n",
      "alpha:  110.0\n",
      "[0.88181456 0.87910349 0.88856805 0.88467077 0.88468113]\n",
      "0.8837676021627912\n",
      "\n",
      "\n",
      "alpha:  120.0\n",
      "[0.88199417 0.87854411 0.89008536 0.88464057 0.88439306]\n",
      "0.8839314529860243\n",
      "\n",
      "\n"
     ]
    }
   ],
   "source": [
    "# Rigde with bag of word\n",
    "from sklearn import linear_model\n",
    "from sklearn.model_selection import cross_val_score\n",
    "alpha = [80.0, 90.0, 100.0, 110.0, 120.0]\n",
    "for a in alpha:\n",
    "    ridge = linear_model.RidgeClassifier(a)\n",
    "    scores = cross_val_score(ridge, X_train_bow, X_test_bow, cv=5, scoring='f1')\n",
    "    print(\"alpha: \",a)\n",
    "    print(scores)\n",
    "    print(np.mean(scores))\n",
    "    print('\\n')"
   ]
  },
  {
   "cell_type": "code",
   "execution_count": 15,
   "metadata": {},
   "outputs": [
    {
     "name": "stdout",
     "output_type": "stream",
     "text": [
      "alpha:  1e-10\n",
      "[0.791605   0.78179634 0.78357708 0.78826222 0.78936056]\n",
      "0.7869202410993955\n",
      "\n",
      "\n",
      "alpha:  1e-05\n",
      "[0.81794768 0.80699395 0.80822845 0.81411126 0.81227094]\n",
      "0.8119104540567393\n",
      "\n",
      "\n",
      "alpha:  0.1\n",
      "[0.8526244  0.84447458 0.85072583 0.8547593  0.84791496]\n",
      "0.8500998142684753\n",
      "\n",
      "\n",
      "alpha:  1.0\n",
      "[0.8573775  0.84813052 0.85228364 0.85513826 0.84716516]\n",
      "0.8520190154697875\n",
      "\n",
      "\n",
      "alpha:  2.0\n",
      "[0.85714286 0.84670936 0.85089409 0.8550585  0.84553069]\n",
      "0.8510670981864834\n",
      "\n",
      "\n",
      "alpha:  5.0\n",
      "[0.85714286 0.84394643 0.84958678 0.84968944 0.84303205]\n",
      "0.8486795124751101\n",
      "\n",
      "\n"
     ]
    }
   ],
   "source": [
    "# MultinomialNB with bag of word\n",
    "from sklearn.naive_bayes import MultinomialNB\n",
    "alpha = [1e-10, 1e-5, 0.1, 1.0, 2.0, 5.0]\n",
    "for a in alpha:\n",
    "    mnb = MultinomialNB(alpha=a)\n",
    "    scores = cross_val_score(mnb, X_train_bow, X_test_bow, cv=5, scoring='f1')\n",
    "    print('alpha: ', a)\n",
    "    print(scores)\n",
    "    print(np.mean(scores))\n",
    "    print('\\n')"
   ]
  },
  {
   "cell_type": "code",
   "execution_count": 16,
   "metadata": {},
   "outputs": [
    {
     "name": "stdout",
     "output_type": "stream",
     "text": [
      "alpha:  500.0\n",
      "[0.85160946 0.84266384 0.85110343 0.845991   0.85343915]\n",
      "0.8489613758482646\n",
      "\n",
      "\n",
      "alpha:  1500.0\n",
      "[0.87118194 0.86302097 0.87046358 0.87099338 0.87377872]\n",
      "0.8698877161622214\n",
      "\n",
      "\n",
      "alpha:  2500.0\n",
      "[0.8800848  0.87087803 0.87695157 0.8772998  0.88100264]\n",
      "0.8772433691554291\n",
      "\n",
      "\n",
      "alpha:  3000.0\n",
      "[0.8801061  0.87395847 0.87929213 0.88009529 0.88361671]\n",
      "0.8794137404208084\n",
      "\n",
      "\n"
     ]
    }
   ],
   "source": [
    "# Rigde with TF-IDF\n",
    "alpha = [500.0, 1500.0, 2500.0, 3000.0]\n",
    "for a in alpha:\n",
    "    ridge = linear_model.RidgeClassifier(a)\n",
    "    scores = cross_val_score(ridge, X_train_tfidf, X_test_tfidf, cv=5, scoring='f1')\n",
    "    print(\"alpha: \",a)\n",
    "    print(scores)\n",
    "    print(np.mean(scores))\n",
    "    print('\\n')"
   ]
  },
  {
   "cell_type": "code",
   "execution_count": 18,
   "metadata": {},
   "outputs": [
    {
     "name": "stdout",
     "output_type": "stream",
     "text": [
      "alpha:  175.0\n",
      "[0.85626338 0.84925633 0.85457954 0.8566058  0.8479829 ]\n",
      "0.8529375911061005\n",
      "\n",
      "\n"
     ]
    },
    {
     "name": "stderr",
     "output_type": "stream",
     "text": [
      "D:\\InstallWindows\\anaconda3\\lib\\site-packages\\sklearn\\utils\\validation.py:71: FutureWarning: Pass alpha=200.0 as keyword args. From version 0.25 passing these as positional arguments will result in an error\n",
      "  FutureWarning)\n"
     ]
    },
    {
     "name": "stdout",
     "output_type": "stream",
     "text": [
      "alpha:  200.0\n",
      "[0.85630342 0.84977279 0.85504145 0.85691297 0.84766094]\n",
      "0.8531383130139216\n",
      "\n",
      "\n"
     ]
    },
    {
     "name": "stderr",
     "output_type": "stream",
     "text": [
      "D:\\InstallWindows\\anaconda3\\lib\\site-packages\\sklearn\\utils\\validation.py:71: FutureWarning: Pass alpha=225.0 as keyword args. From version 0.25 passing these as positional arguments will result in an error\n",
      "  FutureWarning)\n"
     ]
    },
    {
     "name": "stdout",
     "output_type": "stream",
     "text": [
      "alpha:  225.0\n",
      "[0.85573202 0.85119445 0.85584624 0.85695151 0.84808947]\n",
      "0.853562736598511\n",
      "\n",
      "\n"
     ]
    },
    {
     "name": "stderr",
     "output_type": "stream",
     "text": [
      "D:\\InstallWindows\\anaconda3\\lib\\site-packages\\sklearn\\utils\\validation.py:71: FutureWarning: Pass alpha=250.0 as keyword args. From version 0.25 passing these as positional arguments will result in an error\n",
      "  FutureWarning)\n"
     ]
    },
    {
     "name": "stdout",
     "output_type": "stream",
     "text": [
      "alpha:  250.0\n",
      "[0.85584745 0.8519259  0.85561783 0.85706638 0.84878308]\n",
      "0.8538481268485618\n",
      "\n",
      "\n"
     ]
    },
    {
     "name": "stderr",
     "output_type": "stream",
     "text": [
      "D:\\InstallWindows\\anaconda3\\lib\\site-packages\\sklearn\\utils\\validation.py:71: FutureWarning: Pass alpha=300.0 as keyword args. From version 0.25 passing these as positional arguments will result in an error\n",
      "  FutureWarning)\n"
     ]
    },
    {
     "name": "stdout",
     "output_type": "stream",
     "text": [
      "alpha:  300.0\n",
      "[0.85630577 0.85189621 0.85470541 0.85752473 0.84872611]\n",
      "0.8538316453094801\n",
      "\n",
      "\n"
     ]
    }
   ],
   "source": [
    "# MultinomialNB with TF-IDF\n",
    "alpha = [175.0, 200.0, 225.0, 250.0, 300.0]\n",
    "for a in alpha:\n",
    "    mnb = MultinomialNB(a)\n",
    "    scores = cross_val_score(mnb, X_train_tfidf, X_test_tfidf, cv=5, scoring='f1')\n",
    "    print('alpha: ', a)\n",
    "    print(scores)\n",
    "    print(np.mean(scores))\n",
    "    print('\\n')"
   ]
  },
  {
   "cell_type": "code",
   "execution_count": 19,
   "metadata": {},
   "outputs": [
    {
     "name": "stdout",
     "output_type": "stream",
     "text": [
      "alpha:  1.1\n",
      "[0.88803294 0.88278049 0.89737155 0.89209204 0.8950364 ]\n",
      "0.8910626843528124\n",
      "\n",
      "\n",
      "alpha:  1.2\n",
      "[0.88891838 0.88289717 0.89681596 0.89226702 0.8952658 ]\n",
      "0.891232866829448\n",
      "\n",
      "\n",
      "alpha:  1.3\n",
      "[0.8882103  0.88190225 0.89722589 0.89320132 0.89517515]\n",
      "0.891142981787208\n",
      "\n",
      "\n",
      "alpha:  1.4\n",
      "[0.88818146 0.88199578 0.89646064 0.8929938  0.89455603]\n",
      "0.8908375402131125\n",
      "\n",
      "\n",
      "alpha:  1.5\n",
      "[0.88877105 0.88202692 0.89711716 0.89352157 0.89393739]\n",
      "0.8910748192510545\n",
      "\n",
      "\n",
      "alpha:  2.0\n",
      "[0.88918276 0.88191054 0.89513999 0.89328063 0.89284772]\n",
      "0.8904723274188321\n",
      "\n",
      "\n"
     ]
    }
   ],
   "source": [
    "# Rigde with Hash\n",
    "alpha = [1.1, 1.2, 1.3, 1.4, 1.5, 2.0]\n",
    "for a in alpha:\n",
    "    ridge = linear_model.RidgeClassifier(a)\n",
    "    scores = cross_val_score(ridge, X_train_hash, X_test_hash, cv=5, scoring='f1')\n",
    "    print(\"alpha: \",a)\n",
    "    print(scores)\n",
    "    print(np.mean(scores))\n",
    "    print('\\n')"
   ]
  },
  {
   "cell_type": "code",
   "execution_count": 20,
   "metadata": {},
   "outputs": [
    {
     "name": "stderr",
     "output_type": "stream",
     "text": [
      "D:\\InstallWindows\\anaconda3\\lib\\site-packages\\ipykernel_launcher.py:4: SettingWithCopyWarning: \n",
      "A value is trying to be set on a copy of a slice from a DataFrame.\n",
      "Try using .loc[row_indexer,col_indexer] = value instead\n",
      "\n",
      "See the caveats in the documentation: https://pandas.pydata.org/pandas-docs/stable/user_guide/indexing.html#returning-a-view-versus-a-copy\n",
      "  after removing the cwd from sys.path.\n"
     ]
    },
    {
     "data": {
      "text/plain": [
       "0.89496"
      ]
     },
     "execution_count": 20,
     "metadata": {},
     "output_type": "execute_result"
    }
   ],
   "source": [
    "from sklearn.metrics import accuracy_score\n",
    "ridge = linear_model.RidgeClassifier(1.4)\n",
    "ridge.fit(X_train_hash, X_test_hash)\n",
    "test['sentiment_pred'] = ridge.predict(Y_train_hash)\n",
    "y_true = test['sentiment']\n",
    "y_pred = test['sentiment_pred']\n",
    "accuracy_score(y_true, y_pred)"
   ]
  },
  {
   "cell_type": "code",
   "execution_count": 21,
   "metadata": {},
   "outputs": [
    {
     "name": "stdout",
     "output_type": "stream",
     "text": [
      "              precision    recall  f1-score   support\n",
      "\n",
      " Bad Reviews       0.90      0.89      0.89      6199\n",
      "Good Reviews       0.89      0.90      0.90      6301\n",
      "\n",
      "    accuracy                           0.89     12500\n",
      "   macro avg       0.90      0.89      0.89     12500\n",
      "weighted avg       0.90      0.89      0.89     12500\n",
      "\n"
     ]
    }
   ],
   "source": [
    "from sklearn.metrics import classification_report,confusion_matrix \n",
    "print(classification_report(y_true, y_pred, target_names = ['Bad Reviews','Good Reviews']))"
   ]
  },
  {
   "cell_type": "code",
   "execution_count": 22,
   "metadata": {},
   "outputs": [
    {
     "data": {
      "text/plain": [
       "Text(23.999999999999996, 0.5, 'Actual')"
      ]
     },
     "execution_count": 22,
     "metadata": {},
     "output_type": "execute_result"
    },
    {
     "data": {
      "image/png": "[encoded data removed]",
      "text/plain": [
       "<Figure size 360x360 with 2 Axes>"
      ]
     },
     "metadata": {
      "needs_background": "light"
     },
     "output_type": "display_data"
    }
   ],
   "source": [
    "import seaborn as sns\n",
    "import matplotlib.pyplot as plt\n",
    "cm = confusion_matrix(y_true, y_pred)\n",
    "plt.figure(figsize = (5,5))\n",
    "sns.heatmap(cm,cmap= \"Blues\", \n",
    "            linecolor = 'black', \n",
    "            linewidth = 1, \n",
    "            annot = True, \n",
    "            fmt='', \n",
    "            xticklabels = ['Bad Reviews','Good Reviews'], \n",
    "            yticklabels = ['Bad Reviews','Good Reviews'])\n",
    "plt.xlabel(\"Predicted\")\n",
    "plt.ylabel(\"Actual\")"
   ]
  },
  {
   "cell_type": "code",
   "execution_count": null,
   "metadata": {},
   "outputs": [],
   "source": []
  }
 ],
 "metadata": {
  "kernelspec": {
   "display_name": "Python 3",
   "language": "python",
   "name": "python3"
  },
  "language_info": {
   "codemirror_mode": {
    "name": "ipython",
    "version": 3
   },
   "file_extension": ".py",
   "mimetype": "text/x-python",
   "name": "python",
   "nbconvert_exporter": "python",
   "pygments_lexer": "ipython3",
   "version": "3.7.9"
  }
 },
 "nbformat": 4,
 "nbformat_minor": 4
}
